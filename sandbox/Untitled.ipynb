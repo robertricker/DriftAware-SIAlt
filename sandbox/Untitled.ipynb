{
 "cells": [
  {
   "cell_type": "code",
   "execution_count": 4,
   "id": "2add34f0",
   "metadata": {},
   "outputs": [],
   "source": [
    "import sys\n",
    "chione_directory = \"/Users/rricker/GitLab/projects/chione\"\n",
    "sys.path.append(chione_directory)\n",
    "import numpy as np\n",
    "import netCDF4\n",
    "from scipy import interpolate\n",
    "from scipy.interpolate import griddata\n",
    "import geopandas as gpd\n",
    "import pandas as pd\n",
    "import os\n",
    "import yaml\n",
    "import glob\n",
    "from loguru import logger\n",
    "from pyproj import Proj, transform\n",
    "from shapely.geometry import Point\n",
    "from scipy.spatial import cKDTree\n",
    "from typing import Tuple\n",
    "#from io_tools import transform_coords\n",
    "import matplotlib.pyplot as plt\n",
    "import pyproj\n",
    "import geopandas as gpd\n",
    "import shapely as shp\n",
    "import datetime\n",
    "import re\n",
    "#from gridding import gridding_lib\n",
    "\n"
   ]
  },
  {
   "cell_type": "code",
   "execution_count": 14,
   "id": "918a5c19",
   "metadata": {},
   "outputs": [
    {
     "data": {
      "text/plain": [
       "25000.0"
      ]
     },
     "execution_count": 14,
     "metadata": {},
     "output_type": "execute_result"
    }
   ],
   "source": [
    "(2700000*2)/216"
   ]
  },
  {
   "cell_type": "code",
   "execution_count": 13,
   "id": "8dbf6da7",
   "metadata": {},
   "outputs": [
    {
     "data": {
      "text/plain": [
       "216.0"
      ]
     },
     "execution_count": 13,
     "metadata": {},
     "output_type": "execute_result"
    }
   ],
   "source": [
    "432/2"
   ]
  },
  {
   "cell_type": "code",
   "execution_count": 70,
   "id": "c7d222c9",
   "metadata": {},
   "outputs": [],
   "source": [
    "def transform_coords(x: float, y: float, in_epsg: str, out_epsg: str) -> Tuple[float, float]:\n",
    "    \"\"\"\n",
    "    Transforms coordinates from one projection to another using pyproj.\n",
    "\n",
    "    Args:\n",
    "        x: The x-coordinate.\n",
    "        y: The y-coordinate.\n",
    "        in_epsg: The EPSG code of the input projection.\n",
    "        out_epsg: The EPSG code of the output projection.\n",
    "\n",
    "    Returns:\n",
    "        A tuple of the transformed (x, y) coordinates.\n",
    "    \"\"\"\n",
    "    source_crs = pyproj.CRS(in_epsg)\n",
    "    destination_crs = pyproj.CRS(out_epsg)\n",
    "    transformer = pyproj.Transformer.from_crs(source_crs, destination_crs, always_xy=True)\n",
    "    return transformer.transform(x, y)\n",
    "\n",
    "def define_grid(xmin, ymin, xmax, ymax, n_cells, epsg):\n",
    "    cell_size = (xmax - xmin) / n_cells\n",
    "    # create the cells in a loop\n",
    "    grid_cells = []\n",
    "    for x0 in np.arange(xmin, xmax, cell_size):\n",
    "        for y0 in np.arange(ymin, ymax, cell_size):\n",
    "            # bounds\n",
    "            x1 = x0 + cell_size\n",
    "            y1 = y0 + cell_size\n",
    "            grid_cells.append(shp.geometry.box(x0, y0, x1, y1))\n",
    "    return gpd.GeoDataFrame(grid_cells, columns=['geometry'], crs=epsg), cell_size\n",
    "\n",
    "\n",
    "def grid_data(gdf, grid, var, var_str, hist_n_bins=None, hist_range=None, fill_nan=False, agg_mode=None):\n",
    "\n",
    "    if agg_mode is None:\n",
    "        agg_mode = ['mean', 'std']\n",
    "    tmp_grid = grid.copy()\n",
    "    merged = gpd.sjoin(gdf[var + ['geometry']].copy(), grid, how='left', op='within')\n",
    "    if 'mean' in agg_mode: dissolve_mean = merged.dissolve(by='index_right', aggfunc=np.mean)\n",
    "    if 'std' in agg_mode: dissolve_std = merged.dissolve(by='index_right', aggfunc=np.std)\n",
    "    if 'sum' in agg_mode: dissolve_sum = merged.dissolve(by='index_right', aggfunc=np.sum)\n",
    "    if 'cnt' in agg_mode: dissolve_cnt = merged.dissolve(by='index_right', aggfunc='count')\n",
    "    if 'hist' in agg_mode:\n",
    "        dissolve_hist = merged.dissolve(by='index_right', aggfunc=np.mean)\n",
    "        dissolve_hist.reset_index(inplace=True)\n",
    "        dissolve_hist[var[0]] = ''\n",
    "\n",
    "    for i in range(0, len(var)):\n",
    "        if 'mean' in agg_mode: tmp_grid.loc[dissolve_mean.index, var_str[i]] = dissolve_mean[var[i]].values\n",
    "        if 'std' in agg_mode: tmp_grid.loc[dissolve_std.index, var_str[i] + '_std'] = dissolve_std[var[i]].values\n",
    "        if 'sum' in agg_mode: tmp_grid.loc[dissolve_sum.index, var_str[i] + '_sum'] = dissolve_sum[var[i]].values\n",
    "        if 'cnt' in agg_mode: tmp_grid.loc[dissolve_cnt.index, var_str[i] + '_cnt'] = dissolve_cnt[var[i]].values\n",
    "\n",
    "        if 'hist' in agg_mode:\n",
    "            for j in dissolve_hist.index_right.unique():\n",
    "                tmp = merged[merged.index_right == j].drop(['index_right', 'geometry'], axis=1).reset_index(drop=True)\n",
    "                tmp_hist = np.histogram(np.array(tmp[var[i]]),\n",
    "                                        bins=hist_n_bins,\n",
    "                                        range=(hist_range[0],hist_range[1]))[0]\n",
    "                dissolve_hist[var[i]][dissolve_hist.index[dissolve_hist.index_right == j][0]] = ' '.join(\n",
    "                    map(str, tmp_hist))\n",
    "\n",
    "            tmp_grid.loc[dissolve_hist.index_right, var_str[i] + '_hist'] = dissolve_hist[var[i]].values\n",
    "\n",
    "    if not fill_nan:\n",
    "        tmp_grid = tmp_grid.dropna()\n",
    "\n",
    "    centroidseries = tmp_grid['geometry'].centroid\n",
    "    tmp_grid['x'], tmp_grid['y'] = centroidseries.x, centroidseries.y\n",
    "    tmp_grid = tmp_grid.set_index(['x', 'y'])\n",
    "    return tmp_grid"
   ]
  },
  {
   "cell_type": "code",
   "execution_count": 71,
   "id": "2b5b746c",
   "metadata": {},
   "outputs": [],
   "source": [
    "with open('/Users/rricker/GitLab/projects/chione/config.yaml', 'r') as f:\n",
    "    config = yaml.safe_load(f)"
   ]
  },
  {
   "cell_type": "code",
   "execution_count": 72,
   "id": "59f38077",
   "metadata": {},
   "outputs": [],
   "source": [
    "def interpolate_growth(data, interp_var, growth_range, grid, cell_width):\n",
    "    \n",
    "    merged = gpd.sjoin(data, grid, how='left', op='within')\n",
    "    geo = merged.groupby(['index_right', 'dt_days'], as_index=False).first()['geometry']\n",
    "    tmp = merged.groupby(['index_right', 'dt_days'], as_index=False).mean().assign(geometry=geo)\n",
    "    n_tiepoints = tmp.groupby('index_right')['dt_days'].count()\n",
    "    valid_indices = n_tiepoints[n_tiepoints >= 3].index\n",
    "    tmp = tmp[tmp['index_right'].isin(valid_indices)]\n",
    "    tmp.set_index('index_right', inplace=True)\n",
    "    \n",
    "    # define parameters for growth interpolation\n",
    "    eps = 1.8\n",
    "    nbs = 260\n",
    "    fsm = interpolate.interp1d(np.array([40.0, 90.0]), np.array([80, 10]))\n",
    "\n",
    "    # perform linear fit\n",
    "    tmp['coeff'] = tmp.groupby('index_right').apply(lambda x: np.polyfit(x['dt_days'], x[interp_var], deg=1, cov=True))\n",
    "\n",
    "    tmp['growth'] = [x[0][0] for x in tmp['coeff'].values]\n",
    "    tmp['growth_unc'] = [np.sqrt(np.diag(x[1])[1]) for x in tmp['coeff'].values] \n",
    "    tmp[(tmp['growth'] > growth_range[1]) | (tmp['growth'] < growth_range[0])] = np.nan\n",
    "    tmp = tmp.drop(columns=['coeff'])\n",
    "    tmp.index.names = ['index']\n",
    "\n",
    "    # gridding of growth coefficients\n",
    "    growth_grid = grid_data(tmp, grid, ['growth','growth_unc'], ['growth','growth_unc'], fill_nan=True)\n",
    "\n",
    "    centroidseries = growth_grid['geometry'].centroid\n",
    "    growth_grid['yc'], growth_grid['xc'] = centroidseries.x, centroidseries.y\n",
    "        \n",
    "    # interpolation of growth for all valid target variable data points\n",
    "    f_growth = interpolate.RBFInterpolator(np.vstack((np.array(growth_grid.dropna()['yc']),\n",
    "                                                      np.array(growth_grid.dropna()['xc']))).transpose(),\n",
    "                                           np.array(growth_grid.dropna()['growth']),\n",
    "                                           neighbors=nbs,\n",
    "                                           smoothing=fsm(\n",
    "                                               np.array(growth_grid.dropna().geometry.centroid.to_crs(4326).geometry.y)),\n",
    "                                           kernel='gaussian', epsilon=eps * 1 / cell_width)\n",
    "    \n",
    "    f_growth_unc = interpolate.RBFInterpolator(np.vstack((np.array(growth_grid.dropna()['yc']),\n",
    "                                                          np.array(growth_grid.dropna()['xc']))).transpose(),\n",
    "                                               np.array(growth_grid.dropna()['growth_unc']),\n",
    "                                               neighbors=nbs,\n",
    "                                               smoothing=fsm(\n",
    "                                                   np.array(growth_grid.dropna().geometry.centroid.to_crs(4326).geometry.y)),\n",
    "                                               kernel='gaussian', epsilon=eps * 1 / cell_width)\n",
    "        \n",
    "    return f_growth, f_growth_unc, growth_grid\n",
    "\n",
    "\n",
    "target_variable = config[\"options\"][\"target_variable\"]\n",
    "geojson_dir = config[\"dir\"][config[\"options\"][\"sensor\"]][\"geojson\"]\n",
    "stk_opt = config['options']['proc_step_options']['stacking']\n",
    "start_date = stk_opt.get('t_start')\n",
    "t_series_length = stk_opt.get('t_length')\n",
    "\n",
    "growth_range = config['options']['proc_step_options']['stacking']['growth_estimation']['growth_range'][\n",
    "    \"freeboard\" if \"freeboard\" in config[\"options\"][\"target_variable\"] else \"thickness\"]\n",
    "min_n_tiepoints = config['options']['proc_step_options']['stacking']['growth_estimation']['min_n_tiepoints']\n",
    "growth_grid_options = config['options']['proc_step_options']['stacking']['growth_estimation']['growth_grid']\n",
    "\n",
    "list_f = sorted(glob.glob(os.path.join(geojson_dir, f'*-f-*.geojson')))\n",
    "list_r = sorted(glob.glob(os.path.join(geojson_dir, f'*-r-*.geojson')))\n",
    "\n",
    "grid, cell_width = define_grid(\n",
    "    growth_grid_options[\"bounds\"][0],\n",
    "    growth_grid_options[\"bounds\"][1],\n",
    "    growth_grid_options[\"bounds\"][2],\n",
    "    growth_grid_options[\"bounds\"][3],\n",
    "    growth_grid_options[\"dim\"],\n",
    "    config['options']['out_epsg'])"
   ]
  },
  {
   "cell_type": "code",
   "execution_count": 26,
   "id": "46b19874",
   "metadata": {},
   "outputs": [
    {
     "name": "stdout",
     "output_type": "stream",
     "text": [
      "['/Volumes/data2/projects/chione/product/icesat2/geojson_ex2/sea_ice_thickness-icesat2-nh-20211004-v100-f-100.geojson']\n"
     ]
    },
    {
     "name": "stderr",
     "output_type": "stream",
     "text": [
      "/var/folders/sh/kwy4x62d2mv1cgnwsyd94gzr0000gn/T/ipykernel_66680/2792336315.py:3: UserWarning: CRS mismatch between the CRS of left geometries and the CRS of right geometries.\n",
      "Use `to_crs()` to reproject one of the input geometries to match the CRS of the other.\n",
      "\n",
      "Left CRS: EPSG:4326\n",
      "Right CRS: EPSG:3413\n",
      "\n",
      "  merged = gpd.sjoin(data, grid, how='left', op='within')\n",
      "/var/folders/sh/kwy4x62d2mv1cgnwsyd94gzr0000gn/T/ipykernel_66680/783061670.py:37: UserWarning: CRS mismatch between the CRS of left geometries and the CRS of right geometries.\n",
      "Use `to_crs()` to reproject one of the input geometries to match the CRS of the other.\n",
      "\n",
      "Left CRS: EPSG:4326\n",
      "Right CRS: EPSG:3413\n",
      "\n",
      "  merged = gpd.sjoin(gdf[var + ['geometry']].copy(), grid, how='left', op='within')\n"
     ]
    },
    {
     "ename": "KeyboardInterrupt",
     "evalue": "",
     "output_type": "error",
     "traceback": [
      "\u001b[0;31m---------------------------------------------------------------------------\u001b[0m",
      "\u001b[0;31mKeyboardInterrupt\u001b[0m                         Traceback (most recent call last)",
      "File \u001b[0;32m<timed exec>:55\u001b[0m, in \u001b[0;36m<module>\u001b[0;34m\u001b[0m\n",
      "File \u001b[0;32m~/miniforge3/envs/is2snow-env/lib/python3.8/site-packages/geopandas/geodataframe.py:1368\u001b[0m, in \u001b[0;36mGeoDataFrame.apply\u001b[0;34m(self, func, axis, raw, result_type, args, **kwargs)\u001b[0m\n\u001b[1;32m   1366\u001b[0m \u001b[38;5;129m@doc\u001b[39m(pd\u001b[38;5;241m.\u001b[39mDataFrame)\n\u001b[1;32m   1367\u001b[0m \u001b[38;5;28;01mdef\u001b[39;00m \u001b[38;5;21mapply\u001b[39m(\u001b[38;5;28mself\u001b[39m, func, axis\u001b[38;5;241m=\u001b[39m\u001b[38;5;241m0\u001b[39m, raw\u001b[38;5;241m=\u001b[39m\u001b[38;5;28;01mFalse\u001b[39;00m, result_type\u001b[38;5;241m=\u001b[39m\u001b[38;5;28;01mNone\u001b[39;00m, args\u001b[38;5;241m=\u001b[39m(), \u001b[38;5;241m*\u001b[39m\u001b[38;5;241m*\u001b[39mkwargs):\n\u001b[0;32m-> 1368\u001b[0m     result \u001b[38;5;241m=\u001b[39m \u001b[38;5;28;43msuper\u001b[39;49m\u001b[43m(\u001b[49m\u001b[43m)\u001b[49m\u001b[38;5;241;43m.\u001b[39;49m\u001b[43mapply\u001b[49m\u001b[43m(\u001b[49m\n\u001b[1;32m   1369\u001b[0m \u001b[43m        \u001b[49m\u001b[43mfunc\u001b[49m\u001b[43m,\u001b[49m\u001b[43m \u001b[49m\u001b[43maxis\u001b[49m\u001b[38;5;241;43m=\u001b[39;49m\u001b[43maxis\u001b[49m\u001b[43m,\u001b[49m\u001b[43m \u001b[49m\u001b[43mraw\u001b[49m\u001b[38;5;241;43m=\u001b[39;49m\u001b[43mraw\u001b[49m\u001b[43m,\u001b[49m\u001b[43m \u001b[49m\u001b[43mresult_type\u001b[49m\u001b[38;5;241;43m=\u001b[39;49m\u001b[43mresult_type\u001b[49m\u001b[43m,\u001b[49m\u001b[43m \u001b[49m\u001b[43margs\u001b[49m\u001b[38;5;241;43m=\u001b[39;49m\u001b[43margs\u001b[49m\u001b[43m,\u001b[49m\u001b[43m \u001b[49m\u001b[38;5;241;43m*\u001b[39;49m\u001b[38;5;241;43m*\u001b[39;49m\u001b[43mkwargs\u001b[49m\n\u001b[1;32m   1370\u001b[0m \u001b[43m    \u001b[49m\u001b[43m)\u001b[49m\n\u001b[1;32m   1371\u001b[0m     \u001b[38;5;28;01mif\u001b[39;00m (\n\u001b[1;32m   1372\u001b[0m         \u001b[38;5;28misinstance\u001b[39m(result, GeoDataFrame)\n\u001b[1;32m   1373\u001b[0m         \u001b[38;5;129;01mand\u001b[39;00m \u001b[38;5;28mself\u001b[39m\u001b[38;5;241m.\u001b[39m_geometry_column_name \u001b[38;5;129;01min\u001b[39;00m result\u001b[38;5;241m.\u001b[39mcolumns\n\u001b[1;32m   1374\u001b[0m         \u001b[38;5;129;01mand\u001b[39;00m \u001b[38;5;28many\u001b[39m(\u001b[38;5;28misinstance\u001b[39m(t, GeometryDtype) \u001b[38;5;28;01mfor\u001b[39;00m t \u001b[38;5;129;01min\u001b[39;00m result\u001b[38;5;241m.\u001b[39mdtypes)\n\u001b[1;32m   1375\u001b[0m     ):\n\u001b[1;32m   1376\u001b[0m         \u001b[38;5;28;01mif\u001b[39;00m \u001b[38;5;28mself\u001b[39m\u001b[38;5;241m.\u001b[39mcrs \u001b[38;5;129;01mis\u001b[39;00m \u001b[38;5;129;01mnot\u001b[39;00m \u001b[38;5;28;01mNone\u001b[39;00m \u001b[38;5;129;01mand\u001b[39;00m result\u001b[38;5;241m.\u001b[39mcrs \u001b[38;5;129;01mis\u001b[39;00m \u001b[38;5;28;01mNone\u001b[39;00m:\n",
      "File \u001b[0;32m~/miniforge3/envs/is2snow-env/lib/python3.8/site-packages/pandas/core/frame.py:8736\u001b[0m, in \u001b[0;36mDataFrame.apply\u001b[0;34m(self, func, axis, raw, result_type, args, **kwargs)\u001b[0m\n\u001b[1;32m   8725\u001b[0m \u001b[38;5;28;01mfrom\u001b[39;00m \u001b[38;5;21;01mpandas\u001b[39;00m\u001b[38;5;21;01m.\u001b[39;00m\u001b[38;5;21;01mcore\u001b[39;00m\u001b[38;5;21;01m.\u001b[39;00m\u001b[38;5;21;01mapply\u001b[39;00m \u001b[38;5;28;01mimport\u001b[39;00m frame_apply\n\u001b[1;32m   8727\u001b[0m op \u001b[38;5;241m=\u001b[39m frame_apply(\n\u001b[1;32m   8728\u001b[0m     \u001b[38;5;28mself\u001b[39m,\n\u001b[1;32m   8729\u001b[0m     func\u001b[38;5;241m=\u001b[39mfunc,\n\u001b[0;32m   (...)\u001b[0m\n\u001b[1;32m   8734\u001b[0m     kwargs\u001b[38;5;241m=\u001b[39mkwargs,\n\u001b[1;32m   8735\u001b[0m )\n\u001b[0;32m-> 8736\u001b[0m \u001b[38;5;28;01mreturn\u001b[39;00m \u001b[43mop\u001b[49m\u001b[38;5;241;43m.\u001b[39;49m\u001b[43mapply\u001b[49m\u001b[43m(\u001b[49m\u001b[43m)\u001b[49m\n",
      "File \u001b[0;32m~/miniforge3/envs/is2snow-env/lib/python3.8/site-packages/pandas/core/apply.py:688\u001b[0m, in \u001b[0;36mFrameApply.apply\u001b[0;34m(self)\u001b[0m\n\u001b[1;32m    685\u001b[0m \u001b[38;5;28;01melif\u001b[39;00m \u001b[38;5;28mself\u001b[39m\u001b[38;5;241m.\u001b[39mraw:\n\u001b[1;32m    686\u001b[0m     \u001b[38;5;28;01mreturn\u001b[39;00m \u001b[38;5;28mself\u001b[39m\u001b[38;5;241m.\u001b[39mapply_raw()\n\u001b[0;32m--> 688\u001b[0m \u001b[38;5;28;01mreturn\u001b[39;00m \u001b[38;5;28;43mself\u001b[39;49m\u001b[38;5;241;43m.\u001b[39;49m\u001b[43mapply_standard\u001b[49m\u001b[43m(\u001b[49m\u001b[43m)\u001b[49m\n",
      "File \u001b[0;32m~/miniforge3/envs/is2snow-env/lib/python3.8/site-packages/pandas/core/apply.py:805\u001b[0m, in \u001b[0;36mFrameApply.apply_standard\u001b[0;34m(self)\u001b[0m\n\u001b[1;32m    804\u001b[0m \u001b[38;5;28;01mdef\u001b[39;00m \u001b[38;5;21mapply_standard\u001b[39m(\u001b[38;5;28mself\u001b[39m):\n\u001b[0;32m--> 805\u001b[0m     results, res_index \u001b[38;5;241m=\u001b[39m \u001b[38;5;28;43mself\u001b[39;49m\u001b[38;5;241;43m.\u001b[39;49m\u001b[43mapply_series_generator\u001b[49m\u001b[43m(\u001b[49m\u001b[43m)\u001b[49m\n\u001b[1;32m    807\u001b[0m     \u001b[38;5;66;03m# wrap results\u001b[39;00m\n\u001b[1;32m    808\u001b[0m     \u001b[38;5;28;01mreturn\u001b[39;00m \u001b[38;5;28mself\u001b[39m\u001b[38;5;241m.\u001b[39mwrap_results(results, res_index)\n",
      "File \u001b[0;32m~/miniforge3/envs/is2snow-env/lib/python3.8/site-packages/pandas/core/apply.py:821\u001b[0m, in \u001b[0;36mFrameApply.apply_series_generator\u001b[0;34m(self)\u001b[0m\n\u001b[1;32m    818\u001b[0m \u001b[38;5;28;01mwith\u001b[39;00m option_context(\u001b[38;5;124m\"\u001b[39m\u001b[38;5;124mmode.chained_assignment\u001b[39m\u001b[38;5;124m\"\u001b[39m, \u001b[38;5;28;01mNone\u001b[39;00m):\n\u001b[1;32m    819\u001b[0m     \u001b[38;5;28;01mfor\u001b[39;00m i, v \u001b[38;5;129;01min\u001b[39;00m \u001b[38;5;28menumerate\u001b[39m(series_gen):\n\u001b[1;32m    820\u001b[0m         \u001b[38;5;66;03m# ignore SettingWithCopy here in case the user mutates\u001b[39;00m\n\u001b[0;32m--> 821\u001b[0m         results[i] \u001b[38;5;241m=\u001b[39m \u001b[38;5;28;43mself\u001b[39;49m\u001b[38;5;241;43m.\u001b[39;49m\u001b[43mf\u001b[49m\u001b[43m(\u001b[49m\u001b[43mv\u001b[49m\u001b[43m)\u001b[49m\n\u001b[1;32m    822\u001b[0m         \u001b[38;5;28;01mif\u001b[39;00m \u001b[38;5;28misinstance\u001b[39m(results[i], ABCSeries):\n\u001b[1;32m    823\u001b[0m             \u001b[38;5;66;03m# If we have a view on v, we need to make a copy because\u001b[39;00m\n\u001b[1;32m    824\u001b[0m             \u001b[38;5;66;03m#  series_generator will swap out the underlying data\u001b[39;00m\n\u001b[1;32m    825\u001b[0m             results[i] \u001b[38;5;241m=\u001b[39m results[i]\u001b[38;5;241m.\u001b[39mcopy(deep\u001b[38;5;241m=\u001b[39m\u001b[38;5;28;01mFalse\u001b[39;00m)\n",
      "File \u001b[0;32m~/miniforge3/envs/is2snow-env/lib/python3.8/site-packages/pandas/core/apply.py:131\u001b[0m, in \u001b[0;36mApply.__init__.<locals>.f\u001b[0;34m(x)\u001b[0m\n\u001b[1;32m    130\u001b[0m \u001b[38;5;28;01mdef\u001b[39;00m \u001b[38;5;21mf\u001b[39m(x):\n\u001b[0;32m--> 131\u001b[0m     \u001b[38;5;28;01mreturn\u001b[39;00m \u001b[43mfunc\u001b[49m\u001b[43m(\u001b[49m\u001b[43mx\u001b[49m\u001b[43m,\u001b[49m\u001b[43m \u001b[49m\u001b[38;5;241;43m*\u001b[39;49m\u001b[43margs\u001b[49m\u001b[43m,\u001b[49m\u001b[43m \u001b[49m\u001b[38;5;241;43m*\u001b[39;49m\u001b[38;5;241;43m*\u001b[39;49m\u001b[43mkwargs\u001b[49m\u001b[43m)\u001b[49m\n",
      "File \u001b[0;32m<timed exec>:49\u001b[0m, in \u001b[0;36mget_neighbor_dyn_range\u001b[0;34m(row, data, var)\u001b[0m\n",
      "\u001b[0;31mKeyboardInterrupt\u001b[0m: "
     ]
    }
   ],
   "source": [
    "%%time\n",
    "\n",
    "nbs = 260\n",
    "#for j in range(t_series_length):\n",
    "j=1\n",
    "cday = start_date + datetime.timedelta(days=j)\n",
    "subs = cday.strftime(\"%Y%m%d\")\n",
    "file_f = [i for i in list_f if subs in re.search('-(.+?)-*.geojson', os.path.basename(i)).group(1)]\n",
    "file_r = [i for i in list_r if subs in re.search('-(.+?)-*.geojson', os.path.basename(i)).group(1)]\n",
    "print(file_f)\n",
    "stack_f = gpd.read_file(file_f[0])\n",
    "stack_r = gpd.read_file(file_r[0])\n",
    "stack_r = stack_r[stack_r.dt_days != 0].reset_index(drop=True)\n",
    "data = pd.concat([stack_f, stack_r], ignore_index=True)\n",
    "\n",
    "# apply growth correction\n",
    "traj_geom = data['geometry']\n",
    "target_location = data[\"geometry\"].apply(lambda g: g.geoms[-1])\n",
    "data[\"geometry\"] = target_location\n",
    "\n",
    "#merged = gpd.sjoin(data, grid, how='left', op='within')\n",
    "#geo = merged.groupby(['index_right', 'dt_days'], as_index=False).first()['geometry']\n",
    "#tmp = merged.groupby(['index_right', 'dt_days'], as_index=False).mean().assign(geometry=geo)\n",
    "#n_tiepoints = tmp.groupby('index_right')['dt_days'].count()\n",
    "#valid_indices = n_tiepoints[n_tiepoints >= 3].index\n",
    "#tmp = tmp[tmp['index_right'].isin(valid_indices)]\n",
    "#tmp.set_index('index_right', inplace=True)\n",
    "\n",
    "f_growth, f_growth_unc, growth_grid = interpolate_growth(tmp, target_variable, growth_range, grid, cell_width)\n",
    "growth_interpolated = f_growth(np.array([np.array(data.geometry.x), np.array(data.geometry.y)]).transpose())\n",
    "growth_unc_interpolated = f_growth_unc(np.array([np.array(data.geometry.x), np.array(data.geometry.y)]).transpose())\n",
    "\n",
    "data[target_variable + \"_corr\"] = growth_interpolated * (-data.dt_days.to_numpy()) + data[target_variable].to_numpy()\n",
    "data[target_variable + \"_growth_unc\"] = (growth_unc_interpolated/np.sqrt(nbs)) * abs(data.dt_days.to_numpy())\n",
    "data[\"growth_interpolated\"] = growth_interpolated\n",
    "data[target_variable + \"_drift_unc\"] = np.sqrt(data[target_variable + \"_drift_unc\"])\n",
    "\n",
    "# Create a KDTree for spatial indexing\n",
    "points = np.array([data['geometry'].x,data['geometry'].y]).transpose()\n",
    "kdtree = cKDTree(points)\n",
    "\n",
    "# Function to calculate standard deviation of neighbor sea ice thickness within given radius\n",
    "def get_neighbor_dyn_range(row, data, var, tree):\n",
    "    neighbors_indices = tree.query_ball_point((row['geometry'].x, row['geometry'].y), row[var+'_drift_unc'])\n",
    "    neighbor_thickness = data.loc[neighbors_indices][var]\n",
    "    return np.percentile(neighbor_thickness, 75)-np.percentile(neighbor_thickness, 25)\n",
    "\n",
    "# Apply the function to calculate the standard deviation for each point\n",
    "data[\"sea_ice_thickness_drift_unc\"] = data.apply(get_neighbor_dyn_range,args=(data,target_variable,kdtree), axis=1)\n",
    "\n",
    "#data[\"geometry\"] = traj_geom\n",
    "\n",
    "#data.to_file(os.path.join(geojson_dir, os.path.basename(file_f[0]).replace(\"-f-\", \"-\")), driver=\"GeoJSON\")\n",
    "#os.remove(file_f[0])\n",
    "#os.remove(file_r[0])"
   ]
  },
  {
   "cell_type": "code",
   "execution_count": 505,
   "id": "c991cc02",
   "metadata": {},
   "outputs": [],
   "source": [
    "# Create a KDTree for spatial indexing\n",
    "points = np.array([data['geometry'].x,data['geometry'].y]).transpose()\n",
    "kdtree = cKDTree(points)\n",
    "\n",
    "var= 'sea_ice_thickness'\n",
    "\n",
    "# Function to calculate standard deviation of neighbor sea ice thickness within given radius\n",
    "def get_neighbor_dyn_range(row, data, var, tree):\n",
    "    neighbors_indices = tree.query_ball_point((row['geometry'].x, row['geometry'].y), row[var+'_drift_unc'])\n",
    "    neighbor_thickness = data.loc[neighbors_indices][var]\n",
    "    return np.percentile(neighbor_thickness, 75)-np.percentile(neighbor_thickness, 25)\n",
    "\n",
    "# Apply the function to calculate the standard deviation for each point\n",
    "data[\"sea_ice_thickness_drift_unc\"] = data.apply(get_neighbor_dyn_range,args=(data,var,kdtree), axis=1)\n"
   ]
  },
  {
   "cell_type": "code",
   "execution_count": 473,
   "id": "9a8ea670",
   "metadata": {},
   "outputs": [],
   "source": [
    "growth_unc = data['sea_ice_thickness_growth_unc']\n",
    "sit_unc = data['sea_ice_thickness_unc']\n",
    "drift_unc = data['sea_ice_thickness_drift_unc']"
   ]
  },
  {
   "cell_type": "code",
   "execution_count": 506,
   "id": "99d25db3",
   "metadata": {},
   "outputs": [
    {
     "data": {
      "text/plain": [
       "<BarContainer object of 100 artists>"
      ]
     },
     "execution_count": 506,
     "metadata": {},
     "output_type": "execute_result"
    },
    {
     "data": {
      "image/png": "[encoded data removed]",
      "text/plain": [
       "<Figure size 432x288 with 1 Axes>"
      ]
     },
     "metadata": {
      "needs_background": "light"
     },
     "output_type": "display_data"
    }
   ],
   "source": [
    "plt.hist(data[\"sea_ice_thickness_drift_unc\"],bins=100, range=(0,2))[2]"
   ]
  },
  {
   "cell_type": "code",
   "execution_count": 448,
   "id": "7574d45d",
   "metadata": {},
   "outputs": [
    {
     "data": {
      "text/plain": [
       "<BarContainer object of 100 artists>"
      ]
     },
     "execution_count": 448,
     "metadata": {},
     "output_type": "execute_result"
    },
    {
     "data": {
      "image/png": "[encoded data removed]",
      "text/plain": [
       "<Figure size 432x288 with 1 Axes>"
      ]
     },
     "metadata": {
      "needs_background": "light"
     },
     "output_type": "display_data"
    }
   ],
   "source": [
    "plt.hist(growth_unc,bins=100, range=(0,2))[2]"
   ]
  },
  {
   "cell_type": "code",
   "execution_count": 449,
   "id": "33b4c098",
   "metadata": {},
   "outputs": [
    {
     "data": {
      "text/plain": [
       "<BarContainer object of 100 artists>"
      ]
     },
     "execution_count": 449,
     "metadata": {},
     "output_type": "execute_result"
    },
    {
     "data": {
      "image/png": "[encoded data removed]",
      "text/plain": [
       "<Figure size 432x288 with 1 Axes>"
      ]
     },
     "metadata": {
      "needs_background": "light"
     },
     "output_type": "display_data"
    }
   ],
   "source": [
    "plt.hist(sit_unc,bins=100, range=(0,2))[2]"
   ]
  },
  {
   "cell_type": "code",
   "execution_count": 4,
   "id": "86ef8790",
   "metadata": {},
   "outputs": [],
   "source": [
    "def grid_data(gdf, grid, var, var_str, hist_n_bins=None, hist_range=None, fill_nan=False, agg_mode=None):\n",
    "\n",
    "    if agg_mode is None:\n",
    "        agg_mode = ['mean', 'std']\n",
    "    tmp_grid = grid.copy()\n",
    "    merged = gpd.sjoin(gdf[var + ['geometry']].copy(), grid, how='left', op='within')\n",
    "    if 'mean' in agg_mode:\n",
    "        dissolve_mean = merged.dissolve(by='index_right', aggfunc=np.mean)\n",
    "        for i in range(0, len(var)):\n",
    "            tmp_grid.loc[dissolve_mean.index, var_str[i]] = dissolve_mean[var[i]].values\n",
    "    if 'std' in agg_mode:\n",
    "        dissolve_std = merged.dissolve(by='index_right', aggfunc=np.std)\n",
    "        for i in range(0, len(var)):\n",
    "            tmp_grid.loc[dissolve_std.index, var_str[i] + '_std'] = dissolve_std[var[i]].values\n",
    "    if 'sum' in agg_mode:\n",
    "        dissolve_sum = merged.dissolve(by='index_right', aggfunc=np.sum)\n",
    "        for i in range(0, len(var)):\n",
    "            tmp_grid.loc[dissolve_sum.index, var_str[i] + '_sum'] = dissolve_sum[var[i]].values\n",
    "    if 'cnt' in agg_mode:\n",
    "        dissolve_cnt = merged.dissolve(by='index_right', aggfunc='count')\n",
    "        for i in range(0, len(var)):\n",
    "            tmp_grid.loc[dissolve_cnt.index, var_str[i] + '_cnt'] = dissolve_cnt[var[i]].values\n",
    "    if 'hist' in agg_mode:\n",
    "        dissolve_hist = merged.dissolve(by='index_right', aggfunc=np.mean)\n",
    "        dissolve_hist.reset_index(inplace=True)\n",
    "        dissolve_hist[var[0]] = ''\n",
    "        for i in range(0, len(var)):\n",
    "            for j in dissolve_hist.index_right.unique():\n",
    "                tmp = merged[merged.index_right == j].drop(['index_right', 'geometry'], axis=1).reset_index(drop=True)\n",
    "                tmp_hist = np.histogram(np.array(tmp[var[i]]),\n",
    "                                        bins=hist_n_bins,\n",
    "                                        range=(hist_range[0], hist_range[1]))[0]\n",
    "                dissolve_hist[var[i]][dissolve_hist.index[dissolve_hist.index_right == j][0]] = ' '.join(\n",
    "                    map(str, tmp_hist))\n",
    "\n",
    "            tmp_grid.loc[dissolve_hist.index_right, var_str[i] + '_hist'] = dissolve_hist[var[i]].values\n",
    "\n",
    "    if not fill_nan:\n",
    "        tmp_grid = tmp_grid.dropna()\n",
    "\n",
    "    centroidseries = tmp_grid['geometry'].centroid\n",
    "    tmp_grid['x'], tmp_grid['y'] = centroidseries.x, centroidseries.y\n",
    "    tmp_grid = tmp_grid.set_index(['x', 'y'])\n",
    "    return tmp_grid\n"
   ]
  },
  {
   "cell_type": "code",
   "execution_count": 119,
   "id": "82071809",
   "metadata": {},
   "outputs": [
    {
     "ename": "DriverError",
     "evalue": "/Volumes/data2/projects/chione/product/icesat2/geojson_ex3/sea_ice_thickness-icesat2-nh-20211017-v100-f-100.geojson: No such file or directory",
     "output_type": "error",
     "traceback": [
      "\u001b[0;31m---------------------------------------------------------------------------\u001b[0m",
      "\u001b[0;31mCPLE_OpenFailedError\u001b[0m                      Traceback (most recent call last)",
      "File \u001b[0;32mfiona/ogrext.pyx:136\u001b[0m, in \u001b[0;36mfiona.ogrext.gdal_open_vector\u001b[0;34m()\u001b[0m\n",
      "File \u001b[0;32mfiona/_err.pyx:291\u001b[0m, in \u001b[0;36mfiona._err.exc_wrap_pointer\u001b[0;34m()\u001b[0m\n",
      "\u001b[0;31mCPLE_OpenFailedError\u001b[0m: /Volumes/data2/projects/chione/product/icesat2/geojson_ex3/sea_ice_thickness-icesat2-nh-20211017-v100-f-100.geojson: No such file or directory",
      "\nDuring handling of the above exception, another exception occurred:\n",
      "\u001b[0;31mDriverError\u001b[0m                               Traceback (most recent call last)",
      "Input \u001b[0;32mIn [119]\u001b[0m, in \u001b[0;36m<cell line: 5>\u001b[0;34m()\u001b[0m\n\u001b[1;32m      2\u001b[0m     config \u001b[38;5;241m=\u001b[39m yaml\u001b[38;5;241m.\u001b[39msafe_load(f)\n\u001b[1;32m      4\u001b[0m file \u001b[38;5;241m=\u001b[39m \u001b[38;5;124m'\u001b[39m\u001b[38;5;124m/Volumes/data2/projects/chione/product/icesat2/geojson_ex3/sea_ice_thickness-icesat2-nh-20211017-v100-f-100.geojson\u001b[39m\u001b[38;5;124m'\u001b[39m\n\u001b[0;32m----> 5\u001b[0m data \u001b[38;5;241m=\u001b[39m \u001b[43mgpd\u001b[49m\u001b[38;5;241;43m.\u001b[39;49m\u001b[43mread_file\u001b[49m\u001b[43m(\u001b[49m\u001b[43mfile\u001b[49m\u001b[43m)\u001b[49m\n\u001b[1;32m      6\u001b[0m target_location \u001b[38;5;241m=\u001b[39m data[\u001b[38;5;124m\"\u001b[39m\u001b[38;5;124mgeometry\u001b[39m\u001b[38;5;124m\"\u001b[39m]\u001b[38;5;241m.\u001b[39mapply(\u001b[38;5;28;01mlambda\u001b[39;00m g: g\u001b[38;5;241m.\u001b[39mgeoms[\u001b[38;5;241m-\u001b[39m\u001b[38;5;241m1\u001b[39m])\n\u001b[1;32m      7\u001b[0m data[\u001b[38;5;124m\"\u001b[39m\u001b[38;5;124mgeometry\u001b[39m\u001b[38;5;124m\"\u001b[39m] \u001b[38;5;241m=\u001b[39m target_location\n",
      "File \u001b[0;32m~/miniforge3/envs/is2snow-env/lib/python3.8/site-packages/geopandas/io/file.py:161\u001b[0m, in \u001b[0;36m_read_file\u001b[0;34m(filename, bbox, mask, rows, **kwargs)\u001b[0m\n\u001b[1;32m    158\u001b[0m     reader \u001b[38;5;241m=\u001b[39m fiona\u001b[38;5;241m.\u001b[39mopen\n\u001b[1;32m    160\u001b[0m \u001b[38;5;28;01mwith\u001b[39;00m fiona_env():\n\u001b[0;32m--> 161\u001b[0m     \u001b[38;5;28;01mwith\u001b[39;00m \u001b[43mreader\u001b[49m\u001b[43m(\u001b[49m\u001b[43mpath_or_bytes\u001b[49m\u001b[43m,\u001b[49m\u001b[43m \u001b[49m\u001b[38;5;241;43m*\u001b[39;49m\u001b[38;5;241;43m*\u001b[39;49m\u001b[43mkwargs\u001b[49m\u001b[43m)\u001b[49m \u001b[38;5;28;01mas\u001b[39;00m features:\n\u001b[1;32m    162\u001b[0m \n\u001b[1;32m    163\u001b[0m         \u001b[38;5;66;03m# In a future Fiona release the crs attribute of features will\u001b[39;00m\n\u001b[1;32m    164\u001b[0m         \u001b[38;5;66;03m# no longer be a dict, but will behave like a dict. So this should\u001b[39;00m\n\u001b[1;32m    165\u001b[0m         \u001b[38;5;66;03m# be forwards compatible\u001b[39;00m\n\u001b[1;32m    166\u001b[0m         crs \u001b[38;5;241m=\u001b[39m (\n\u001b[1;32m    167\u001b[0m             features\u001b[38;5;241m.\u001b[39mcrs[\u001b[38;5;124m\"\u001b[39m\u001b[38;5;124minit\u001b[39m\u001b[38;5;124m\"\u001b[39m]\n\u001b[1;32m    168\u001b[0m             \u001b[38;5;28;01mif\u001b[39;00m features\u001b[38;5;241m.\u001b[39mcrs \u001b[38;5;129;01mand\u001b[39;00m \u001b[38;5;124m\"\u001b[39m\u001b[38;5;124minit\u001b[39m\u001b[38;5;124m\"\u001b[39m \u001b[38;5;129;01min\u001b[39;00m features\u001b[38;5;241m.\u001b[39mcrs\n\u001b[1;32m    169\u001b[0m             \u001b[38;5;28;01melse\u001b[39;00m features\u001b[38;5;241m.\u001b[39mcrs_wkt\n\u001b[1;32m    170\u001b[0m         )\n\u001b[1;32m    172\u001b[0m         \u001b[38;5;66;03m# handle loading the bounding box\u001b[39;00m\n",
      "File \u001b[0;32m~/miniforge3/envs/is2snow-env/lib/python3.8/site-packages/fiona/env.py:457\u001b[0m, in \u001b[0;36mensure_env_with_credentials.<locals>.wrapper\u001b[0;34m(*args, **kwds)\u001b[0m\n\u001b[1;32m    454\u001b[0m     session \u001b[38;5;241m=\u001b[39m DummySession()\n\u001b[1;32m    456\u001b[0m \u001b[38;5;28;01mwith\u001b[39;00m env_ctor(session\u001b[38;5;241m=\u001b[39msession):\n\u001b[0;32m--> 457\u001b[0m     \u001b[38;5;28;01mreturn\u001b[39;00m \u001b[43mf\u001b[49m\u001b[43m(\u001b[49m\u001b[38;5;241;43m*\u001b[39;49m\u001b[43margs\u001b[49m\u001b[43m,\u001b[49m\u001b[43m \u001b[49m\u001b[38;5;241;43m*\u001b[39;49m\u001b[38;5;241;43m*\u001b[39;49m\u001b[43mkwds\u001b[49m\u001b[43m)\u001b[49m\n",
      "File \u001b[0;32m~/miniforge3/envs/is2snow-env/lib/python3.8/site-packages/fiona/__init__.py:336\u001b[0m, in \u001b[0;36mopen\u001b[0;34m(fp, mode, driver, schema, crs, encoding, layer, vfs, enabled_drivers, crs_wkt, allow_unsupported_drivers, **kwargs)\u001b[0m\n\u001b[1;32m    333\u001b[0m     path \u001b[38;5;241m=\u001b[39m parse_path(fp)\n\u001b[1;32m    335\u001b[0m \u001b[38;5;28;01mif\u001b[39;00m mode \u001b[38;5;129;01min\u001b[39;00m (\u001b[38;5;124m\"\u001b[39m\u001b[38;5;124ma\u001b[39m\u001b[38;5;124m\"\u001b[39m, \u001b[38;5;124m\"\u001b[39m\u001b[38;5;124mr\u001b[39m\u001b[38;5;124m\"\u001b[39m):\n\u001b[0;32m--> 336\u001b[0m     colxn \u001b[38;5;241m=\u001b[39m \u001b[43mCollection\u001b[49m\u001b[43m(\u001b[49m\n\u001b[1;32m    337\u001b[0m \u001b[43m        \u001b[49m\u001b[43mpath\u001b[49m\u001b[43m,\u001b[49m\n\u001b[1;32m    338\u001b[0m \u001b[43m        \u001b[49m\u001b[43mmode\u001b[49m\u001b[43m,\u001b[49m\n\u001b[1;32m    339\u001b[0m \u001b[43m        \u001b[49m\u001b[43mdriver\u001b[49m\u001b[38;5;241;43m=\u001b[39;49m\u001b[43mdriver\u001b[49m\u001b[43m,\u001b[49m\n\u001b[1;32m    340\u001b[0m \u001b[43m        \u001b[49m\u001b[43mencoding\u001b[49m\u001b[38;5;241;43m=\u001b[39;49m\u001b[43mencoding\u001b[49m\u001b[43m,\u001b[49m\n\u001b[1;32m    341\u001b[0m \u001b[43m        \u001b[49m\u001b[43mlayer\u001b[49m\u001b[38;5;241;43m=\u001b[39;49m\u001b[43mlayer\u001b[49m\u001b[43m,\u001b[49m\n\u001b[1;32m    342\u001b[0m \u001b[43m        \u001b[49m\u001b[43menabled_drivers\u001b[49m\u001b[38;5;241;43m=\u001b[39;49m\u001b[43menabled_drivers\u001b[49m\u001b[43m,\u001b[49m\n\u001b[1;32m    343\u001b[0m \u001b[43m        \u001b[49m\u001b[43mallow_unsupported_drivers\u001b[49m\u001b[38;5;241;43m=\u001b[39;49m\u001b[43mallow_unsupported_drivers\u001b[49m\u001b[43m,\u001b[49m\n\u001b[1;32m    344\u001b[0m \u001b[43m        \u001b[49m\u001b[38;5;241;43m*\u001b[39;49m\u001b[38;5;241;43m*\u001b[39;49m\u001b[43mkwargs\u001b[49m\n\u001b[1;32m    345\u001b[0m \u001b[43m    \u001b[49m\u001b[43m)\u001b[49m\n\u001b[1;32m    346\u001b[0m \u001b[38;5;28;01melif\u001b[39;00m mode \u001b[38;5;241m==\u001b[39m \u001b[38;5;124m\"\u001b[39m\u001b[38;5;124mw\u001b[39m\u001b[38;5;124m\"\u001b[39m:\n\u001b[1;32m    347\u001b[0m     colxn \u001b[38;5;241m=\u001b[39m Collection(\n\u001b[1;32m    348\u001b[0m         path,\n\u001b[1;32m    349\u001b[0m         mode,\n\u001b[0;32m   (...)\u001b[0m\n\u001b[1;32m    358\u001b[0m         \u001b[38;5;241m*\u001b[39m\u001b[38;5;241m*\u001b[39mkwargs\n\u001b[1;32m    359\u001b[0m     )\n",
      "File \u001b[0;32m~/miniforge3/envs/is2snow-env/lib/python3.8/site-packages/fiona/collection.py:243\u001b[0m, in \u001b[0;36mCollection.__init__\u001b[0;34m(self, path, mode, driver, schema, crs, encoding, layer, vsi, archive, enabled_drivers, crs_wkt, ignore_fields, ignore_geometry, include_fields, wkt_version, allow_unsupported_drivers, **kwargs)\u001b[0m\n\u001b[1;32m    241\u001b[0m \u001b[38;5;28;01mif\u001b[39;00m \u001b[38;5;28mself\u001b[39m\u001b[38;5;241m.\u001b[39mmode \u001b[38;5;241m==\u001b[39m \u001b[38;5;124m\"\u001b[39m\u001b[38;5;124mr\u001b[39m\u001b[38;5;124m\"\u001b[39m:\n\u001b[1;32m    242\u001b[0m     \u001b[38;5;28mself\u001b[39m\u001b[38;5;241m.\u001b[39msession \u001b[38;5;241m=\u001b[39m Session()\n\u001b[0;32m--> 243\u001b[0m     \u001b[38;5;28;43mself\u001b[39;49m\u001b[38;5;241;43m.\u001b[39;49m\u001b[43msession\u001b[49m\u001b[38;5;241;43m.\u001b[39;49m\u001b[43mstart\u001b[49m\u001b[43m(\u001b[49m\u001b[38;5;28;43mself\u001b[39;49m\u001b[43m,\u001b[49m\u001b[43m \u001b[49m\u001b[38;5;241;43m*\u001b[39;49m\u001b[38;5;241;43m*\u001b[39;49m\u001b[43mkwargs\u001b[49m\u001b[43m)\u001b[49m\n\u001b[1;32m    244\u001b[0m \u001b[38;5;28;01melif\u001b[39;00m \u001b[38;5;28mself\u001b[39m\u001b[38;5;241m.\u001b[39mmode \u001b[38;5;129;01min\u001b[39;00m (\u001b[38;5;124m\"\u001b[39m\u001b[38;5;124ma\u001b[39m\u001b[38;5;124m\"\u001b[39m, \u001b[38;5;124m\"\u001b[39m\u001b[38;5;124mw\u001b[39m\u001b[38;5;124m\"\u001b[39m):\n\u001b[1;32m    245\u001b[0m     \u001b[38;5;28mself\u001b[39m\u001b[38;5;241m.\u001b[39msession \u001b[38;5;241m=\u001b[39m WritingSession()\n",
      "File \u001b[0;32mfiona/ogrext.pyx:588\u001b[0m, in \u001b[0;36mfiona.ogrext.Session.start\u001b[0;34m()\u001b[0m\n",
      "File \u001b[0;32mfiona/ogrext.pyx:143\u001b[0m, in \u001b[0;36mfiona.ogrext.gdal_open_vector\u001b[0;34m()\u001b[0m\n",
      "\u001b[0;31mDriverError\u001b[0m: /Volumes/data2/projects/chione/product/icesat2/geojson_ex3/sea_ice_thickness-icesat2-nh-20211017-v100-f-100.geojson: No such file or directory"
     ]
    }
   ],
   "source": [
    "with open('/Users/rricker/GitLab/projects/chione/config.yaml', 'r') as f:\n",
    "    config = yaml.safe_load(f)\n",
    "\n",
    "file = '/Volumes/data2/projects/chione/product/icesat2/geojson_ex3/sea_ice_thickness-icesat2-nh-20211017-v100-f-100.geojson'\n",
    "data = gpd.read_file(file)\n",
    "target_location = data[\"geometry\"].apply(lambda g: g.geoms[-1])\n",
    "data[\"geometry\"] = target_location\n",
    "\n",
    "sensor = config['options']['sensor']\n",
    "target_var = config['options']['target_variable']\n",
    "target_var_r = config['options']['target_variable_range'][\"freeboard\" if \"freeboard\" in target_var else \"thickness\"]\n",
    "out_epsg = config[\"options\"][\"out_epsg\"]\n",
    "stk_opt = config['options']['proc_step_options']['stacking']\n",
    "\n",
    "# declare histogram options\n",
    "hist_n_bins = stk_opt['hist']['n_bins']\n",
    "hist_range = stk_opt['hist']['range'][\"freeboard\" if \"freeboard\" in target_var else \"thickness\"]\n",
    "hist_bin_size = (hist_range[1] - hist_range[0]) / hist_n_bins\n",
    "\n",
    "# declare gridding options\n",
    "gridding_mode = config[\"options\"]['proc_step_options']['gridding']['mode']\n",
    "out_dir = config['dir'][sensor]['netcdf']\n",
    "\n",
    "netcdf_bounds = config['options']['proc_step_options']['gridding']['netcdf_grid']['bounds']\n",
    "\n",
    "grid, cell_width = gridding_lib.define_grid(\n",
    "    netcdf_bounds,\n",
    "    config['options']['proc_step_options']['gridding']['netcdf_grid']['dim'],\n",
    "    config['options']['out_epsg'])"
   ]
  },
  {
   "cell_type": "code",
   "execution_count": 9,
   "id": "e3f56870",
   "metadata": {},
   "outputs": [
    {
     "data": {
      "text/plain": [
       "<matplotlib.collections.PathCollection at 0x17fcaceb0>"
      ]
     },
     "execution_count": 9,
     "metadata": {},
     "output_type": "execute_result"
    },
    {
     "data": {
      "image/png": "[encoded data removed]",
      "text/plain": [
       "<Figure size 432x288 with 1 Axes>"
      ]
     },
     "metadata": {
      "needs_background": "light"
     },
     "output_type": "display_data"
    }
   ],
   "source": [
    "plt.scatter(data['sea_ice_thickness'],data['sea_ice_thickness_unc'],s=0.1)"
   ]
  },
  {
   "cell_type": "code",
   "execution_count": 20,
   "id": "a175d750",
   "metadata": {},
   "outputs": [],
   "source": [
    "gdf = data.copy()\n",
    "gdf['weights'] = 1/(gdf['sea_ice_thickness_unc'])\n",
    "gdf['weights_p'] = gdf['sea_ice_thickness'] * gdf['weights']\n",
    "\n",
    "#master = grid_data(gdf, grid, ['weights','weights_p'], ['weights','weights_p'], fill_nan=True, agg_mode=['sum'])\n",
    "#master['weighted_mean'] = master['weights_p_sum']/ master['weights_sum']\n",
    "#master['weighted_mean_unc'] = np.sqrt(1 / master['weights_sum'])\n",
    "#np.mean(master['weighted_mean_unc'])"
   ]
  },
  {
   "cell_type": "code",
   "execution_count": 10,
   "id": "29d5bc94",
   "metadata": {},
   "outputs": [],
   "source": [
    "import pyproj\n",
    "epsg_code = '3413'\n",
    "crs = pyproj.CRS.from_epsg(epsg_code)"
   ]
  },
  {
   "cell_type": "code",
   "execution_count": 11,
   "id": "1d215663",
   "metadata": {},
   "outputs": [
    {
     "data": {
      "text/plain": [
       "'WGS 84 / NSIDC Sea Ice Polar Stereographic North'"
      ]
     },
     "execution_count": 11,
     "metadata": {},
     "output_type": "execute_result"
    }
   ],
   "source": [
    "crs.name"
   ]
  },
  {
   "cell_type": "code",
   "execution_count": 20,
   "id": "42f4f2e5",
   "metadata": {},
   "outputs": [
    {
     "data": {
      "text/plain": [
       "'WGS 84 / NSIDC Sea Ice Polar Stereographic North'"
      ]
     },
     "execution_count": 20,
     "metadata": {},
     "output_type": "execute_result"
    }
   ],
   "source": [
    "import pyproj\n",
    "crs = pyproj.CRS.from_epsg(int(config['options']['out_epsg'].split(\":\")[1]))\n",
    "crs.name"
   ]
  },
  {
   "cell_type": "code",
   "execution_count": 51,
   "id": "d5e3a785",
   "metadata": {},
   "outputs": [],
   "source": [
    "import os\n",
    "from datetime import datetime\n",
    "\n",
    "def create_subdir(config, parent_directory, grid):\n",
    "    target_variable = config[\"options\"][\"target_variable\"]\n",
    "    hem = config[\"options\"][\"hemisphere\"]\n",
    "    stk_opt = config['options']['proc_step_options']['stacking']\n",
    "    t_window = stk_opt['t_window']\n",
    "    mode = stk_opt['mode']\n",
    "    epsg = 'epsg' + config['options']['out_epsg'].split(\":\")[1]\n",
    "    res = \"{:.0f}\".format(grid.geometry[0].length / 4 / 100.0)\n",
    "    timestamp = datetime.now().strftime('%Y-%m-%d_%H-%M-%S')    \n",
    "    \n",
    "    sub_dir_name = f'{target_variable}-{hem}-{t_window}{mode}-{epsg}_{res}-{timestamp}'\n",
    "    sub_dir_path = os.path.join(parent_directory, sub_dir_name)\n",
    "\n",
    "    os.makedirs(sub_dir_path)\n",
    "    return sub_dir_path"
   ]
  },
  {
   "cell_type": "code",
   "execution_count": 55,
   "id": "770a9d6f",
   "metadata": {},
   "outputs": [],
   "source": [
    "parent_directory = \"/Volumes/data2/projects/chione/product/icesat2/geojson_ex3/\"\n",
    "subdir = create_subdir(config, parent_directory, grid)"
   ]
  },
  {
   "cell_type": "code",
   "execution_count": 56,
   "id": "1f70a081",
   "metadata": {},
   "outputs": [
    {
     "data": {
      "text/plain": [
       "'/Volumes/data2/projects/chione/product/icesat2/geojson_ex3/sea_ice_thickness-nh-16fr-epsg3413_250-2023-08-02_15-18-02'"
      ]
     },
     "execution_count": 56,
     "metadata": {},
     "output_type": "execute_result"
    }
   ],
   "source": [
    "subdir"
   ]
  },
  {
   "cell_type": "code",
   "execution_count": 48,
   "id": "37a65ffc",
   "metadata": {},
   "outputs": [
    {
     "data": {
      "text/plain": [
       "'250'"
      ]
     },
     "execution_count": 48,
     "metadata": {},
     "output_type": "execute_result"
    }
   ],
   "source": [
    "\"{:.0f}\".format(grid.geometry[0].length / 4 / 100.0)"
   ]
  },
  {
   "cell_type": "code",
   "execution_count": 59,
   "id": "b8f8038b",
   "metadata": {},
   "outputs": [
    {
     "ename": "KeyError",
     "evalue": "'sub_dir'",
     "output_type": "error",
     "traceback": [
      "\u001b[0;31m---------------------------------------------------------------------------\u001b[0m",
      "\u001b[0;31mKeyError\u001b[0m                                  Traceback (most recent call last)",
      "Input \u001b[0;32mIn [59]\u001b[0m, in \u001b[0;36m<cell line: 1>\u001b[0;34m()\u001b[0m\n\u001b[0;32m----> 1\u001b[0m \u001b[43mconfig\u001b[49m\u001b[43m[\u001b[49m\u001b[38;5;124;43m'\u001b[39;49m\u001b[38;5;124;43moptions\u001b[39;49m\u001b[38;5;124;43m'\u001b[39;49m\u001b[43m]\u001b[49m\u001b[43m[\u001b[49m\u001b[38;5;124;43m'\u001b[39;49m\u001b[38;5;124;43mproc_step_options\u001b[39;49m\u001b[38;5;124;43m'\u001b[39;49m\u001b[43m]\u001b[49m\u001b[43m[\u001b[49m\u001b[38;5;124;43m'\u001b[39;49m\u001b[38;5;124;43mgridding\u001b[39;49m\u001b[38;5;124;43m'\u001b[39;49m\u001b[43m]\u001b[49m\u001b[43m[\u001b[49m\u001b[38;5;124;43m'\u001b[39;49m\u001b[38;5;124;43msub_dir\u001b[39;49m\u001b[38;5;124;43m'\u001b[39;49m\u001b[43m]\u001b[49m\n",
      "\u001b[0;31mKeyError\u001b[0m: 'sub_dir'"
     ]
    }
   ],
   "source": [
    "config['options']['proc_step_options']['gridding']['sub_dir']"
   ]
  },
  {
   "cell_type": "code",
   "execution_count": 61,
   "id": "2ea68101",
   "metadata": {},
   "outputs": [
    {
     "data": {
      "text/plain": [
       "['c12', 'a34']"
      ]
     },
     "execution_count": 61,
     "metadata": {},
     "output_type": "execute_result"
    }
   ],
   "source": [
    "a=[]\n",
    "b=['c12','a34']\n",
    "c = a+b\n",
    "c"
   ]
  },
  {
   "cell_type": "code",
   "execution_count": 67,
   "id": "fa25da90",
   "metadata": {},
   "outputs": [
    {
     "name": "stdout",
     "output_type": "stream",
     "text": [
      "yes\n"
     ]
    }
   ],
   "source": [
    "a=['aaa','sdd']\n",
    "if a:\n",
    "    print('yes')"
   ]
  },
  {
   "cell_type": "code",
   "execution_count": 81,
   "id": "d3cd8e09",
   "metadata": {},
   "outputs": [],
   "source": [
    "target_var = config[\"options\"][\"target_variable\"]\n",
    "hem = config[\"options\"][\"hemisphere\"]\n",
    "sensor = config['options']['sensor']\n",
    "out_epsg = config[\"options\"][\"out_epsg\"]\n",
    "t0 = datetime.datetime(2020,10,10,0,0,0)\n",
    "direct = 'f'\n",
    "\n",
    "outfile = (\n",
    "    f\"{target_var}-{sensor}-{hem}-{t0.strftime('%Y%m%d')}-\"\n",
    "    f\"{config['version']}-{direct}-epsg{out_epsg.split(':')[1]}_\"\n",
    "    f\"{grid.geometry[0].length / 4 / 100.0:.0f}.geojson\"\n",
    ")"
   ]
  },
  {
   "cell_type": "code",
   "execution_count": 82,
   "id": "4fa3101b",
   "metadata": {},
   "outputs": [
    {
     "data": {
      "text/plain": [
       "'sea_ice_thickness-icesat2-nh-20201010-v100-f-epsg6931_250.geojson'"
      ]
     },
     "execution_count": 82,
     "metadata": {},
     "output_type": "execute_result"
    }
   ],
   "source": [
    "outfile"
   ]
  },
  {
   "cell_type": "code",
   "execution_count": 104,
   "id": "d5c9e688",
   "metadata": {},
   "outputs": [
    {
     "data": {
      "text/plain": [
       "<Geographic 2D CRS: EPSG:4326>\n",
       "Name: WGS 84\n",
       "Axis Info [ellipsoidal]:\n",
       "- Lat[north]: Geodetic latitude (degree)\n",
       "- Lon[east]: Geodetic longitude (degree)\n",
       "Area of Use:\n",
       "- undefined\n",
       "Datum: World Geodetic System 1984\n",
       "- Ellipsoid: WGS 84\n",
       "- Prime Meridian: Greenwich"
      ]
     },
     "execution_count": 104,
     "metadata": {},
     "output_type": "execute_result"
    }
   ],
   "source": [
    "file = '/Volumes/data2/projects/chione/product/icesat2/geojson/sea_ice_thickness-nh-16fr-epsg6931_100-2023-08-02_16-54-27/sea_ice_thickness-icesat2-nh-20211021-v100-epsg6931_100.geojson'\n",
    "data = gpd.read_file(file)\n",
    "data.crs"
   ]
  },
  {
   "cell_type": "code",
   "execution_count": 105,
   "id": "8e94dbec",
   "metadata": {},
   "outputs": [
    {
     "data": {
      "text/plain": [
       "<Projected CRS: EPSG:6931>\n",
       "Name: WGS 84 / NSIDC EASE-Grid 2.0 North\n",
       "Axis Info [cartesian]:\n",
       "- X[south]: Easting (metre)\n",
       "- Y[south]: Northing (metre)\n",
       "Area of Use:\n",
       "- name: Northern hemisphere.\n",
       "- bounds: (-180.0, 0.0, 180.0, 90.0)\n",
       "Coordinate Operation:\n",
       "- name: US NSIDC EASE-Grid 2.0 North\n",
       "- method: Lambert Azimuthal Equal Area\n",
       "Datum: World Geodetic System 1984 ensemble\n",
       "- Ellipsoid: WGS 84\n",
       "- Prime Meridian: Greenwich"
      ]
     },
     "execution_count": 105,
     "metadata": {},
     "output_type": "execute_result"
    }
   ],
   "source": [
    "import re\n",
    "in_epsg = \"epsg:\" + re.findall(r'epsg(\\d{4})', os.path.basename(file))[0]\n",
    "data.crs = in_epsg\n",
    "data.crs"
   ]
  },
  {
   "cell_type": "code",
   "execution_count": 112,
   "id": "7cbc1a83",
   "metadata": {},
   "outputs": [
    {
     "data": {
      "text/plain": [
       "<Projected CRS: EPSG:3413>\n",
       "Name: WGS 84 / NSIDC Sea Ice Polar Stereographic North\n",
       "Axis Info [cartesian]:\n",
       "- X[south]: Easting (metre)\n",
       "- Y[south]: Northing (metre)\n",
       "Area of Use:\n",
       "- name: Northern hemisphere - north of 60°N onshore and offshore, including Arctic.\n",
       "- bounds: (-180.0, 60.0, 180.0, 90.0)\n",
       "Coordinate Operation:\n",
       "- name: US NSIDC Sea Ice polar stereographic north\n",
       "- method: Polar Stereographic (variant B)\n",
       "Datum: World Geodetic System 1984 ensemble\n",
       "- Ellipsoid: WGS 84\n",
       "- Prime Meridian: Greenwich"
      ]
     },
     "execution_count": 112,
     "metadata": {},
     "output_type": "execute_result"
    }
   ],
   "source": [
    "data.to_crs(crs='epsg:3413', inplace=True)#\n",
    "data.crs"
   ]
  },
  {
   "cell_type": "code",
   "execution_count": 114,
   "id": "e94a6b33",
   "metadata": {},
   "outputs": [
    {
     "data": {
      "text/plain": [
       "<Projected CRS: EPSG:3411>\n",
       "Name: NSIDC Sea Ice Polar Stereographic North\n",
       "Axis Info [cartesian]:\n",
       "- X[south]: Easting (metre)\n",
       "- Y[south]: Northing (metre)\n",
       "Area of Use:\n",
       "- name: Northern hemisphere - north of 60°N onshore and offshore, including Arctic.\n",
       "- bounds: (-180.0, 60.0, 180.0, 90.0)\n",
       "Coordinate Operation:\n",
       "- name: US NSIDC Sea Ice polar stereographic north\n",
       "- method: Polar Stereographic (variant B)\n",
       "Datum: Not specified (based on Hughes 1980 ellipsoid)\n",
       "- Ellipsoid: Hughes 1980\n",
       "- Prime Meridian: Greenwich"
      ]
     },
     "execution_count": 114,
     "metadata": {},
     "output_type": "execute_result"
    }
   ],
   "source": [
    "data.to_crs(crs='epsg:3411', inplace=True)#\n",
    "data.crs"
   ]
  },
  {
   "cell_type": "code",
   "execution_count": null,
   "id": "dab1a687",
   "metadata": {},
   "outputs": [],
   "source": []
  }
 ],
 "metadata": {
  "kernelspec": {
   "display_name": "Python 3 (ipykernel)",
   "language": "python",
   "name": "python3"
  },
  "language_info": {
   "codemirror_mode": {
    "name": "ipython",
    "version": 3
   },
   "file_extension": ".py",
   "mimetype": "text/x-python",
   "name": "python",
   "nbconvert_exporter": "python",
   "pygments_lexer": "ipython3",
   "version": "3.10.10"
  }
 },
 "nbformat": 4,
 "nbformat_minor": 5
}
