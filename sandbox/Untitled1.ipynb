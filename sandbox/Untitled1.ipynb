{
 "cells": [
  {
   "cell_type": "code",
   "execution_count": 1,
   "id": "57dc035d",
   "metadata": {},
   "outputs": [],
   "source": [
    "import geopandas as gpd\n",
    "import pandas as pd\n",
    "from shapely.geometry import MultiPoint\n",
    "import numpy as np\n",
    "import shapely as shp\n",
    "import matplotlib.pyplot as plt\n",
    "from shapely.wkt import loads\n",
    "import glob\n",
    "import os\n",
    "from datetime import datetime, timedelta\n",
    "import netCDF4\n",
    "from shapely.geometry import Point\n",
    "from typing import Tuple\n",
    "from scipy.interpolate import griddata\n",
    "import pyproj\n",
    "from scipy.interpolate import RegularGridInterpolator\n",
    "\n",
    "file = \"/Volumes/data2/projects/DriftAware-SIAlt/itd_icesat2_OctNovDec2021_v3/icesat2_itd_t0_20211001_74589.csv\""
   ]
  },
  {
   "cell_type": "code",
   "execution_count": 2,
   "id": "0ae320a9",
   "metadata": {},
   "outputs": [],
   "source": [
    "df = pd.read_csv(file)"
   ]
  },
  {
   "cell_type": "code",
   "execution_count": 5,
   "id": "98cb1690",
   "metadata": {},
   "outputs": [
    {
     "data": {
      "text/plain": [
       "'0.7680839794574525 0.7066039247531237 0.6938070310315874 0.7612498023261395 0.7994392371752533 0.7581758085934376 0.7812159063943228 0.7746774606005288 0.7825366385638471 0.7810019320120233 0.7651781275036259 0.7563793844378098 0.7163884907280537 0.7614817968585215 0.7590605340917442 0.8116114387411468 0.8353424586545295 0.838688832849823 0.8463406569663745 0.7966016866121193 0.8021425834130754 0.8051173471554657 0.7693406187235454 0.72962627080012 0.7652567650413854 0.7969169756814949 0.7491988057752476 0.7763039585558399 0.7987592864081957 0.7959754863033289 0.7808560278247596 0.8304856727056216 0.8519850572020593 0.8139534189201484 0.8288848762371204 0.87838730460177 0.8920920950937097 0.8848235309020476 0.9007574488299332 0.9254278708998025 0.9244181369994934 0.964749807846698 0.9548201596125986 0.9563109540618028 0.9688652025578892 0.9739948960616134 0.9862036895509831 0.9984573222934074 0.988518497774012 0.9680953731771436 0.9811027120067725 0.9826762051470871 0.9910686510358611 0.9996150022575507 0.9999360563436156 0.9919254748177687 0.9841098808048296 0.987446072181764 0.9924188031573284 0.9932771072782748 0.9974709822466903 0.9985885495195328 0.9999765461404138 0.9999999999999999 1.0 1.0 0.999742006474365 0.993732992394027 0.9894339152355259 1.0000000000000002 1.0 0.9916423585597528 0.9987599220368136 0.999347558699355 1.0 1.0 0.9987527880159719 0.9864886123991115 0.9911453199934716 0.9993187146367063 0.9940917051173799 0.9664609981268911 0.9799340001331509 0.9782304584301807 0.9824743202843647 0.9841599154012889 0.9882757355251758 0.9955757658019272 0.9824392915642507 0.982962815926133 0.9932434775895942 0.9999999999999999'"
      ]
     },
     "execution_count": 5,
     "metadata": {},
     "output_type": "execute_result"
    }
   ],
   "source": [
    "df['ice_conc'][0]"
   ]
  },
  {
   "cell_type": "code",
   "execution_count": null,
   "id": "24d3caad",
   "metadata": {},
   "outputs": [],
   "source": []
  }
 ],
 "metadata": {
  "kernelspec": {
   "display_name": "Python 3 (ipykernel)",
   "language": "python",
   "name": "python3"
  },
  "language_info": {
   "codemirror_mode": {
    "name": "ipython",
    "version": 3
   },
   "file_extension": ".py",
   "mimetype": "text/x-python",
   "name": "python",
   "nbconvert_exporter": "python",
   "pygments_lexer": "ipython3",
   "version": "3.8.17"
  }
 },
 "nbformat": 4,
 "nbformat_minor": 5
}
