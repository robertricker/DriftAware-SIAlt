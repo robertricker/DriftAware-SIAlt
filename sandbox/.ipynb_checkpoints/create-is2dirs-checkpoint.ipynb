{
 "cells": [
  {
   "cell_type": "code",
   "execution_count": 6,
   "id": "e6db9953",
   "metadata": {},
   "outputs": [
    {
     "ename": "NameError",
     "evalue": "name 'filename' is not defined",
     "output_type": "error",
     "traceback": [
      "\u001b[0;31m---------------------------------------------------------------------------\u001b[0m",
      "\u001b[0;31mNameError\u001b[0m                                 Traceback (most recent call last)",
      "Input \u001b[0;32mIn [6]\u001b[0m, in \u001b[0;36m<cell line: 9>\u001b[0;34m()\u001b[0m\n\u001b[1;32m      7\u001b[0m files \u001b[38;5;241m=\u001b[39m glob\u001b[38;5;241m.\u001b[39mglob(data_directory \u001b[38;5;241m+\u001b[39m \u001b[38;5;124m\"\u001b[39m\u001b[38;5;124m/**/*.nc\u001b[39m\u001b[38;5;124m\"\u001b[39m, recursive\u001b[38;5;241m=\u001b[39m\u001b[38;5;28;01mTrue\u001b[39;00m)\n\u001b[1;32m      9\u001b[0m \u001b[38;5;28;01mfor\u001b[39;00m file \u001b[38;5;129;01min\u001b[39;00m files:\n\u001b[1;32m     10\u001b[0m     \u001b[38;5;66;03m# Extract the year and month from the file name\u001b[39;00m\n\u001b[0;32m---> 11\u001b[0m     year \u001b[38;5;241m=\u001b[39m \u001b[43mfilename\u001b[49m[\u001b[38;5;241m15\u001b[39m:\u001b[38;5;241m19\u001b[39m]\n\u001b[1;32m     12\u001b[0m     month \u001b[38;5;241m=\u001b[39m filename[\u001b[38;5;241m19\u001b[39m:\u001b[38;5;241m21\u001b[39m]\n\u001b[1;32m     13\u001b[0m     \u001b[38;5;66;03m# Create the year subdirectory if it doesn't exist\u001b[39;00m\n",
      "\u001b[0;31mNameError\u001b[0m: name 'filename' is not defined"
     ]
    }
   ],
   "source": [
    "import os\n",
    "import shutil\n",
    "\n",
    "data_directory = \"/Volumes/data2/projects/chione/data/icesat2/is2sitdata\"\n",
    "\n",
    "# Get a list of all files in the data directory\n",
    "files = glob.glob(data_directory + \"/**/*.nc\", recursive=True)\n",
    "\n",
    "for file in files:\n",
    "    # Extract the year and month from the file name\n",
    "    year = os.path.basename(file)[14:18]\n",
    "    month = os.path.basename(file)[18:20]\n",
    "    # Create the year subdirectory if it doesn't exist\n",
    "    year_directory = os.path.join(data_directory, year)\n",
    "    os.makedirs(year_directory, exist_ok=True)\n",
    "\n",
    "    # Create the month subdirectory if it doesn't exist\n",
    "    month_directory = os.path.join(year_directory, month)\n",
    "    os.makedirs(month_directory, exist_ok=True)\n",
    "\n",
    "    # Move the file to the month subdirectory\n",
    "    source_path = os.path.join(data_directory, file)\n",
    "    destination_path = os.path.join(month_directory, file)\n",
    "    shutil.move(source_path, destination_path)\n"
   ]
  },
  {
   "cell_type": "code",
   "execution_count": 39,
   "id": "489a9e59",
   "metadata": {},
   "outputs": [
    {
     "data": {
      "text/plain": [
       "'/Volumes/data2/projects/chione/data/icesat2/is2sitdata/2021/09/IS2SITDAT4_01_20210930230116_01301301_005_01_bnum1gt3r_001.nc'"
      ]
     },
     "execution_count": 39,
     "metadata": {},
     "output_type": "execute_result"
    }
   ],
   "source": [
    "import os\n",
    "import shutil\n",
    "import glob\n",
    "\n",
    "data_directory = \"/Volumes/data2/projects/chione/data/icesat2/is2sitdata\"\n",
    "\n",
    "# Get a list of all files in the data directory\n",
    "files = glob.glob(data_directory + \"/**/*.nc\", recursive=True)\n",
    "\n",
    "for file in files:\n",
    "    # Extract the year and month from the file name\n",
    "    year = os.path.basename(file)[14:18]\n",
    "    month = os.path.basename(file)[18:20]\n",
    "    # Create the year subdirectory if it doesn't exist\n",
    "    year_directory = os.path.join(data_directory, year)\n",
    "    os.makedirs(year_directory, exist_ok=True)\n",
    "\n",
    "    # Create the month subdirectory if it doesn't exist\n",
    "    month_directory = os.path.join(year_directory, month)\n",
    "    os.makedirs(month_directory, exist_ok=True)\n",
    "\n",
    "    # Move the file to the month subdirectory\n",
    "    destination_path = os.path.join(month_directory, os.path.basename(file))\n",
    "    shutil.move(file, destination_path)\n"
   ]
  }
 ],
 "metadata": {
  "kernelspec": {
   "display_name": "Python 3 (ipykernel)",
   "language": "python",
   "name": "python3"
  },
  "language_info": {
   "codemirror_mode": {
    "name": "ipython",
    "version": 3
   },
   "file_extension": ".py",
   "mimetype": "text/x-python",
   "name": "python",
   "nbconvert_exporter": "python",
   "pygments_lexer": "ipython3",
   "version": "3.8.10"
  }
 },
 "nbformat": 4,
 "nbformat_minor": 5
}
