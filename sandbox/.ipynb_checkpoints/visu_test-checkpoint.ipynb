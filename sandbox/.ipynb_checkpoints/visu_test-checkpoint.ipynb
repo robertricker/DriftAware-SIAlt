{
 "cells": [
  {
   "cell_type": "code",
   "execution_count": 1,
   "id": "13122e3d",
   "metadata": {},
   "outputs": [],
   "source": [
    "import sys\n",
    "chione_directory = \"/Users/rricker/GitLab/projects/chione\"\n",
    "sys.path.append(chione_directory)\n",
    "\n",
    "from visualization import visualization_tools\n",
    "from data_handler.sea_ice_concentration_products import SeaIceConcentrationProducts\n",
    "import xarray as xr\n",
    "import matplotlib.pyplot as plt\n",
    "import glob\n",
    "import re\n",
    "import os\n",
    "import datetime\n",
    "import numpy as np\n",
    "import cartopy.crs as ccrs\n",
    "import cartopy\n",
    "import matplotlib\n",
    "import seaborn as sns\n",
    "import subprocess\n",
    "\n",
    "def visu_xarray(x,y,z,figsize,vmin,vmax,n_level,cmap,time_string,label,outfile, iceconc=None):\n",
    "    crs = ccrs.Stereographic(central_latitude=90.0, central_longitude=-45.0,\n",
    "                             false_easting=0.0, false_northing=0.0,\n",
    "                             true_scale_latitude=70.0)\n",
    "\n",
    "    fig = plt.figure(figsize=figsize)\n",
    "    xc,yc = np.meshgrid(x,y)\n",
    "    bounds = list(np.linspace(vmin,vmax,num=n_level))\n",
    "    norm = matplotlib.colors.BoundaryNorm(bounds, cmap.N, extend='neither')\n",
    "    ax = plt.subplot(projection=crs)\n",
    "\n",
    "    ax.set_extent([0, 180, 45, 90])\n",
    "    if iceconc:\n",
    "        if len(iceconc)>0:\n",
    "            iceconc[\"ice_conc\"][iceconc[\"ice_conc\"]<15.0] = np.nan\n",
    "            iceconc[\"ice_conc\"][iceconc[\"ice_conc\"]>=15.0] = 1.0\n",
    "            ax.pcolormesh(xc, -yc, iceconc[\"ice_conc\"],cmap='Greys',vmin=1,vmax=2, alpha=0.4)\n",
    "    \n",
    "    im = ax.pcolormesh(xc, yc, z, cmap=cmap, vmin=vmin, vmax=vmax, norm=norm)\n",
    "    ax.add_feature(cartopy.feature.OCEAN, facecolor=[(0.16,0.22,0.33)])\n",
    "    ax.add_feature(cartopy.feature.LAND, facecolor=[(0.05,0.07,0.14)],zorder=2)\n",
    "    ax.coastlines(linewidth=0.15,color='white',zorder=3)\n",
    "    ax.axis(\"off\")\n",
    "    cax = ax.inset_axes([0.51, 0.93, 0.45, 0.02], transform=ax.transAxes)\n",
    "    cb = plt.colorbar(im,ax=ax,shrink=0.7,orientation='horizontal',cax=cax)\n",
    "    plt.annotate(time_string[6:8]+'.'+time_string[4:6]+'.'+time_string[0:4],\n",
    "                 xy=(0.51, 0.965),fontsize=12, xycoords='axes fraction', color='white')\n",
    "    print('5')\n",
    "    cb.set_label(label=label,size=12,color='white')\n",
    "    cb.ax.tick_params(labelsize=12,color='white',labelcolor='white')\n",
    "    cb.outline.set_linewidth(0)\n",
    "    print('6')\n",
    "    plt.close(fig)\n",
    "    print('7')\n",
    "    fig.savefig(outfile, bbox_inches='tight',pad_inches=0, dpi=120)\n",
    "    print('8')\n",
    "\n",
    "def visualization(config):\n",
    "    sensor = 'cryosat2'#config['options']['sensor']\n",
    "    target_var = config['options']['target_variable']\n",
    "    hem = config[\"options\"][\"hemisphere\"]\n",
    "    out_epsg = config[\"options\"][\"out_epsg\"]\n",
    "    file_list =sorted(glob.glob('/Volumes/data2/projects/chione/product/cryosat2/netcdf_ex2' + \"/\" + '*.nc'))\n",
    "\n",
    "    out_dir = config['dir'][sensor]['visu']\n",
    "    \n",
    "    sic_product = SeaIceConcentrationProducts(hem=hem, product_id=config['options']['ice_conc_product'],\n",
    "                                              out_epsg=out_epsg)\n",
    "    sic_product.get_file_list(config['dir']['auxiliary']['ice_conc']['osi450'])\n",
    "    sic_product.get_file_dates()\n",
    "    figsize = (8,8)\n",
    "    \n",
    "    for file in file_list:\n",
    "        time_str = re.search('nh-(.+?)-(.*).nc', os.path.basename(file)).group(1)\n",
    "        dt1d = datetime.timedelta(days=1)\n",
    "        t0 = datetime.datetime.strptime(time_str, '%Y%m%d')\n",
    "        t1 = t0+dt1d\n",
    "        \n",
    "        sic_product.target_files = sic_product.get_target_files(t0, t1)\n",
    "        ice_conc = sic_product.get_ice_concentration(sic_product.target_files)\n",
    "\n",
    "        data  = xr.open_dataset(file,decode_times=False)\n",
    "\n",
    "        if target_var == 'sea_ice_thickness':\n",
    "            vmin, vmax, n_level = 0,5,11\n",
    "            d_vmin, d_vmax, n_level = -2, 2, 11\n",
    "            cmap = plt.cm.plasma\n",
    "            d_cmap = plt.cm.bwr\n",
    "            scaling = 1.0\n",
    "            label = 'Sea ice thickness in m'\n",
    "            d_label = 'Total freeboard difference in cm'\n",
    "\n",
    "        elif target_var == 'snow_freeboard':\n",
    "            vmin, vmax, n_level = 0,60,13\n",
    "            d_vmin, d_vmax, n_level = -20, 20, 11\n",
    "            cmap = plt.cm.plasma\n",
    "            d_cmap = plt.cm.bwr\n",
    "            scaling = 100.0\n",
    "            label = 'Total freeboard in cm'\n",
    "            d_label = 'Total freeboard difference in cm'\n",
    "\n",
    "        elif target_var == 'snow_freeboard_corrected':\n",
    "            vmin, vmax, n_level = 0,60,13\n",
    "            d_vmin, d_vmax, n_level = -15, 15, 13\n",
    "            cmap = plt.cm.plasma\n",
    "            d_cmap = plt.cm.bwr #sns.color_palette(\"vlag\", as_cmap=True)\n",
    "            scaling = 100.0\n",
    "            label = 'Total freeboard in cm'\n",
    "            d_label = 'Total freeboard difference in cm'\n",
    "\n",
    "        elif target_var == \"dist_acquisition\":\n",
    "            vmin, vmax, n_level = 0,160,17\n",
    "            cmap = plt.cm.plasma\n",
    "            scaling = 1.0\n",
    "            label = 'Distance to data aquisition in km'\n",
    "\n",
    "        elif target_var== \"time_offset_acquisition\":\n",
    "            vmin, vmax, n_level = -15,15,13\n",
    "            cmap = plt.cm.bwr\n",
    "            scaling = 1.0\n",
    "            label = 'time offfset to data aquisition in days'\n",
    "\n",
    "        elif v == \"snow_freeboard_growth\":\n",
    "            vmin, vmax, n_level = -1,1,20\n",
    "            cmap = plt.cm.bwr\n",
    "            scaling = 100.0\n",
    "            label = 'Total freeboard growth in cm/day'\n",
    "\n",
    "        elif target_var == \"snow_freeboard_growth_interpolated\":\n",
    "            vmin, vmax, n_level = -0.5,0.5,20\n",
    "            cmap = plt.cm.bwr\n",
    "            scaling = 100.0\n",
    "            label = 'Total freeboard growth in cm/day'\n",
    "\n",
    "        else:\n",
    "            print(\"variable not found\")\n",
    "            break\n",
    "\n",
    "        if not os.path.exists(out_dir + target_var):\n",
    "            try:\n",
    "                os.mkdir(out_dir + target_var)\n",
    "            except OSError as error:\n",
    "                print(error)\n",
    "\n",
    "        outfile = out_dir + target_var + os.sep + re.split('.nc', os.path.basename(file))[0] + '_' + target_var + '.png'\n",
    "        visu_xarray(data.xc, data.yc, data[target_var] * scaling,\n",
    "                    figsize,\n",
    "                    vmin, vmax, n_level,\n",
    "                    cmap,\n",
    "                    time_str,\n",
    "                    label,\n",
    "                    outfile,\n",
    "                    iceconc=ice_conc)"
   ]
  },
  {
   "cell_type": "code",
   "execution_count": 2,
   "id": "6e2562cd",
   "metadata": {},
   "outputs": [
    {
     "name": "stdout",
     "output_type": "stream",
     "text": [
      "5\n",
      "6\n",
      "7\n"
     ]
    },
    {
     "name": "stderr",
     "output_type": "stream",
     "text": [
      "/Users/rricker/miniforge3/envs/is2snow-env/lib/python3.8/site-packages/cartopy/crs.py:228: ShapelyDeprecationWarning: __len__ for multi-part geometries is deprecated and will be removed in Shapely 2.0. Check the length of the `geoms` property instead to get the  number of parts of a multi-part geometry.\n",
      "  if len(multi_line_string) > 1:\n",
      "/Users/rricker/miniforge3/envs/is2snow-env/lib/python3.8/site-packages/cartopy/crs.py:280: ShapelyDeprecationWarning: Iteration over multi-part geometries is deprecated and will be removed in Shapely 2.0. Use the `geoms` property to access the constituent parts of a multi-part geometry.\n",
      "  for line in multi_line_string:\n",
      "/Users/rricker/miniforge3/envs/is2snow-env/lib/python3.8/site-packages/cartopy/crs.py:347: ShapelyDeprecationWarning: __len__ for multi-part geometries is deprecated and will be removed in Shapely 2.0. Check the length of the `geoms` property instead to get the  number of parts of a multi-part geometry.\n",
      "  if len(p_mline) > 0:\n",
      "/Users/rricker/miniforge3/envs/is2snow-env/lib/python3.8/site-packages/cartopy/crs.py:385: ShapelyDeprecationWarning: Iteration over multi-part geometries is deprecated and will be removed in Shapely 2.0. Use the `geoms` property to access the constituent parts of a multi-part geometry.\n",
      "  line_strings.extend(multi_line_string)\n",
      "/Users/rricker/miniforge3/envs/is2snow-env/lib/python3.8/site-packages/cartopy/crs.py:385: ShapelyDeprecationWarning: __len__ for multi-part geometries is deprecated and will be removed in Shapely 2.0. Check the length of the `geoms` property instead to get the  number of parts of a multi-part geometry.\n",
      "  line_strings.extend(multi_line_string)\n",
      "/Users/rricker/miniforge3/envs/is2snow-env/lib/python3.8/site-packages/cartopy/crs.py:239: ShapelyDeprecationWarning: __len__ for multi-part geometries is deprecated and will be removed in Shapely 2.0. Check the length of the `geoms` property instead to get the  number of parts of a multi-part geometry.\n",
      "  line_strings = list(multi_line_string)\n",
      "/Users/rricker/miniforge3/envs/is2snow-env/lib/python3.8/site-packages/cartopy/crs.py:239: ShapelyDeprecationWarning: Iteration over multi-part geometries is deprecated and will be removed in Shapely 2.0. Use the `geoms` property to access the constituent parts of a multi-part geometry.\n",
      "  line_strings = list(multi_line_string)\n"
     ]
    },
    {
     "name": "stdout",
     "output_type": "stream",
     "text": [
      "5\n",
      "6\n",
      "7\n"
     ]
    },
    {
     "name": "stderr",
     "output_type": "stream",
     "text": [
      "\n",
      "KeyboardInterrupt\n",
      "\n"
     ]
    }
   ],
   "source": [
    "import yaml\n",
    "with open('/Users/rricker/GitLab/projects/chione/config.yaml', 'r') as f:\n",
    "    config = yaml.safe_load(f)\n",
    "    \n",
    "visualization(config)"
   ]
  },
  {
   "cell_type": "code",
   "execution_count": 16,
   "id": "4d00a5d8",
   "metadata": {},
   "outputs": [],
   "source": [
    "sensor = 'cryosat2'\n",
    "target_var = config['options']['target_variable']\n",
    "hem = config[\"options\"][\"hemisphere\"]\n",
    "out_epsg = config[\"options\"][\"out_epsg\"]\n",
    "file_list = sorted(glob.glob(config['dir'][sensor]['netcdf'] + \"/\" + '*.nc'))\n",
    "out_dir = config['dir'][sensor]['visu']\n",
    "\n",
    "sic_product = SeaIceConcentrationProducts(hem=hem, product_id=config['options']['ice_conc_product'],\n",
    "                                          out_epsg=out_epsg)\n",
    "sic_product.get_file_list(config['dir']['auxiliary']['ice_conc'][config['options']['ice_conc_product']])\n"
   ]
  },
  {
   "cell_type": "code",
   "execution_count": 38,
   "id": "c94a2dad",
   "metadata": {},
   "outputs": [],
   "source": [
    "date_string = re.search('nh-(.+?)-(.*).nc', os.path.basename(file_list[0])).group(1)\n",
    "dt1d = datetime.timedelta(days=1)\n",
    "t0 = datetime.datetime.strptime(date_string, '%Y%m%d')\n",
    "t1 = t0+dt1d"
   ]
  },
  {
   "cell_type": "code",
   "execution_count": 39,
   "id": "66bec9bb",
   "metadata": {},
   "outputs": [
    {
     "data": {
      "text/plain": [
       "datetime.datetime(2019, 10, 1, 0, 0)"
      ]
     },
     "execution_count": 39,
     "metadata": {},
     "output_type": "execute_result"
    }
   ],
   "source": [
    "t0"
   ]
  },
  {
   "cell_type": "code",
   "execution_count": 40,
   "id": "4c5b87be",
   "metadata": {},
   "outputs": [
    {
     "data": {
      "text/plain": [
       "datetime.datetime(2019, 10, 2, 0, 0)"
      ]
     },
     "execution_count": 40,
     "metadata": {},
     "output_type": "execute_result"
    }
   ],
   "source": [
    "t1"
   ]
  },
  {
   "cell_type": "code",
   "execution_count": null,
   "id": "c503f536",
   "metadata": {},
   "outputs": [],
   "source": []
  }
 ],
 "metadata": {
  "kernelspec": {
   "display_name": "Python 3 (ipykernel)",
   "language": "python",
   "name": "python3"
  },
  "language_info": {
   "codemirror_mode": {
    "name": "ipython",
    "version": 3
   },
   "file_extension": ".py",
   "mimetype": "text/x-python",
   "name": "python",
   "nbconvert_exporter": "python",
   "pygments_lexer": "ipython3",
   "version": "3.8.17"
  }
 },
 "nbformat": 4,
 "nbformat_minor": 5
}
