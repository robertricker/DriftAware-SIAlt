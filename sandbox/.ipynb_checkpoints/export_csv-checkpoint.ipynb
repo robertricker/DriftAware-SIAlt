{
 "cells": [
  {
   "cell_type": "code",
   "execution_count": 8,
   "id": "ccdb7721",
   "metadata": {},
   "outputs": [],
   "source": [
    "import geopandas as gpd\n",
    "import pandas as pd\n",
    "from shapely.geometry import MultiPoint\n",
    "import numpy as np\n",
    "import shapely as shp\n",
    "import matplotlib.pyplot as plt\n",
    "import re"
   ]
  },
  {
   "cell_type": "code",
   "execution_count": 38,
   "id": "10a52dfb",
   "metadata": {},
   "outputs": [],
   "source": [
    "file_path = '/Volumes/data2/projects/DriftAware-SIAlt/product/cryosat2/geojson/sea_ice_thickness-nh-15f-epsg6931_141-2023-11-29_09-09-05/sea_ice_thickness-cryosat2-nh-20191017-v100-f-epsg6931_141.geojson'\n",
    "date_string = re.search(r'\\b\\d{8}\\b', file_path).group()\n",
    "\n",
    "gdf = gpd.read_file(file_path)\n",
    "gdf.crs = 'epsg:6931'\n",
    "traj_geom = gdf['geometry']\n",
    "hist_n_bins = 40\n",
    "gdf_hist = gdf['sea_ice_thickness_hist'].str.split(expand=True).astype(int)\n",
    "gdf_hist.columns = np.arange(hist_n_bins).astype(str)\n",
    "gdf_hist = gpd.GeoDataFrame(pd.concat(\n",
    "    [gdf_hist, gdf.sea_ice_thickness, gdf.t0, gdf.dt_days, gdf.shear, gdf.divergence, gdf.geometry], axis=1))"
   ]
  },
  {
   "cell_type": "code",
   "execution_count": 44,
   "id": "38786113",
   "metadata": {},
   "outputs": [
    {
     "name": "stderr",
     "output_type": "stream",
     "text": [
      "\n",
      "KeyboardInterrupt\n",
      "\n"
     ]
    }
   ],
   "source": [
    "idx = gdf_hist.index\n",
    "out_path = '/Users/rricker/Data/test/'#'/your/path/'\n",
    "\n",
    "for i in idx:\n",
    "    tmp = gdf_hist[gdf_hist.index==i]\n",
    "    itd_row = tmp.drop(columns=['geometry']).sum()\n",
    "    itd_gdf = tmp.drop(columns=['geometry']).iloc[0:1, :].copy()\n",
    "    itd_gdf.iloc[0] = itd_row\n",
    "    itd_gdf.reset_index(drop=True, inplace=True)\n",
    "    mp = gpd.GeoDataFrame(geometry=[tmp['geometry'].iloc[0]])\n",
    "    gdf_final = gpd.GeoDataFrame(pd.concat([itd_gdf, mp], axis=1),crs='epsg:6931')\n",
    "    gdf_final = gdf_final.to_crs('epsg:4326')\n",
    "    gdf_final.to_csv(out_path + 'itd_'+date_string+'_idx'+str(i)+'.csv', index=False)"
   ]
  },
  {
   "cell_type": "code",
   "execution_count": null,
   "id": "d3489e3a",
   "metadata": {},
   "outputs": [],
   "source": []
  }
 ],
 "metadata": {
  "kernelspec": {
   "display_name": "Python 3 (ipykernel)",
   "language": "python",
   "name": "python3"
  },
  "language_info": {
   "codemirror_mode": {
    "name": "ipython",
    "version": 3
   },
   "file_extension": ".py",
   "mimetype": "text/x-python",
   "name": "python",
   "nbconvert_exporter": "python",
   "pygments_lexer": "ipython3",
   "version": "3.8.17"
  }
 },
 "nbformat": 4,
 "nbformat_minor": 5
}
