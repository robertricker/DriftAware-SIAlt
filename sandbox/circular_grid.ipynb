{
 "cells": [
  {
   "cell_type": "code",
   "execution_count": 1,
   "id": "7df33367",
   "metadata": {},
   "outputs": [],
   "source": [
    "import geopandas as gpd\n",
    "import pandas as pd\n",
    "from shapely.geometry import MultiPoint\n",
    "import numpy as np\n",
    "import shapely as shp\n",
    "import matplotlib.pyplot as plt\n",
    "from shapely.wkt import loads\n",
    "import glob\n",
    "import os\n",
    "from datetime import datetime, timedelta\n",
    "import netCDF4\n",
    "from shapely.geometry import Point\n",
    "from typing import Tuple\n",
    "from scipy.interpolate import griddata\n",
    "import pyproj\n",
    "from scipy.interpolate import RegularGridInterpolator\n",
    "from scipy.interpolate import RBFInterpolator\n",
    "import re\n",
    "import yaml\n",
    "from scipy.spatial import cKDTree\n",
    "import seaborn as sns\n",
    "from scipy import interpolate"
   ]
  },
  {
   "cell_type": "code",
   "execution_count": 2,
   "id": "d95b30da",
   "metadata": {},
   "outputs": [],
   "source": [
    "def define_grid(bounds, n_cells, epsg, grid_type='rectangular'):\n",
    "    xmin, xmax = bounds[0], bounds[2]\n",
    "    ymin, ymax = bounds[1], bounds[3]\n",
    "\n",
    "    if grid_type == 'rectangular':\n",
    "        cell_size = (xmax - xmin) / n_cells\n",
    "        grid_cells = []\n",
    "        for x0 in np.arange(xmin, xmax, cell_size):\n",
    "            for y0 in np.arange(ymin, ymax, cell_size):\n",
    "                # bounds\n",
    "                x1 = x0 + cell_size\n",
    "                y1 = y0 + cell_size\n",
    "                grid_cells.append(shp.geometry.box(x0, y0, x1, y1))\n",
    "        return gpd.GeoDataFrame(grid_cells, columns=['geometry'], crs=epsg), cell_size\n",
    "\n",
    "    elif grid_type == 'circular':\n",
    "        cell_spacing = (xmax - xmin) / n_cells\n",
    "        radius = cell_spacing * np.sqrt(2) / 2\n",
    "        grid_cells = []\n",
    "        for x_center in np.arange(xmin + radius, xmax, cell_spacing):\n",
    "            for y_center in np.arange(ymin + radius, ymax, cell_spacing):\n",
    "                # Create a circular cell centered at (x_center, y_center)\n",
    "                cell = Point(x_center, y_center).buffer(radius)\n",
    "                grid_cells.append(cell)\n",
    "\n",
    "        # Create a GeoDataFrame from the grid cells\n",
    "        return gpd.GeoDataFrame(geometry=grid_cells, crs=epsg), radius * 2\n",
    "\n",
    "    else:\n",
    "        raise ValueError(\"Invalid grid_type. Use 'rectangular' or 'circular'.\")\n",
    "        \n",
    "def grid_data(gdf, grid, var, var_str, hist_n_bins=None, hist_range=None, fill_nan=False, agg_mode=None):\n",
    "    if agg_mode is None:\n",
    "        agg_mode = ['mean', 'std']\n",
    "    tmp_grid = grid.copy()\n",
    "    merged = gpd.sjoin(gdf[var + ['geometry']].copy(), grid, how='left', predicate='within')\n",
    "    if 'mean' in agg_mode:\n",
    "        dissolve_mean = merged.dissolve(by='index_right', aggfunc=np.mean)\n",
    "        for i in range(0, len(var)):\n",
    "            tmp_grid.loc[dissolve_mean.index, var_str[i]] = dissolve_mean[var[i]].values\n",
    "    if 'std' in agg_mode:\n",
    "        dissolve_std = merged.dissolve(by='index_right', aggfunc=np.std)\n",
    "        for i in range(0, len(var)):\n",
    "            tmp_grid.loc[dissolve_std.index, var_str[i] + '_std'] = dissolve_std[var[i]].values\n",
    "    if 'sum' in agg_mode:\n",
    "        dissolve_sum = merged.dissolve(by='index_right', aggfunc=np.sum)\n",
    "        for i in range(0, len(var)):\n",
    "            tmp_grid.loc[dissolve_sum.index, var_str[i] + '_sum'] = dissolve_sum[var[i]].values\n",
    "    if 'cnt' in agg_mode:\n",
    "        dissolve_cnt = merged.dissolve(by='index_right', aggfunc='count')\n",
    "        for i in range(0, len(var)):\n",
    "            tmp_grid.loc[dissolve_cnt.index, var_str[i] + '_cnt'] = dissolve_cnt[var[i]].values\n",
    "    if 'hist' in agg_mode:\n",
    "        dissolve_hist = merged.dissolve(by='index_right', aggfunc=np.mean)\n",
    "        dissolve_hist.reset_index(inplace=True)\n",
    "        dissolve_hist[var[0]] = ''\n",
    "        for i in range(0, len(var)):\n",
    "            for j in dissolve_hist.index_right.unique():\n",
    "                tmp = merged[merged.index_right == j].drop(['index_right', 'geometry'], axis=1).reset_index(drop=True)\n",
    "                tmp_hist = np.histogram(np.array(tmp[var[i]]),\n",
    "                                        bins=hist_n_bins,\n",
    "                                        range=(hist_range[0], hist_range[1]))[0]\n",
    "                dissolve_hist[var[i]][dissolve_hist.index[dissolve_hist.index_right == j][0]] = ' '.join(\n",
    "                    map(str, tmp_hist))\n",
    "\n",
    "            tmp_grid.loc[dissolve_hist.index_right, var_str[i] + '_hist'] = dissolve_hist[var[i]].values\n",
    "\n",
    "    if not fill_nan:\n",
    "        tmp_grid = tmp_grid.dropna()\n",
    "\n",
    "    centroidseries = tmp_grid['geometry'].centroid\n",
    "    tmp_grid['x'], tmp_grid['y'] = centroidseries.x, centroidseries.y\n",
    "    tmp_grid = tmp_grid.set_index(['x', 'y'])\n",
    "    return tmp_grid\n"
   ]
  },
  {
   "cell_type": "code",
   "execution_count": 133,
   "id": "a15c72f6",
   "metadata": {},
   "outputs": [],
   "source": [
    "with open('/Users/rricker/GitLab/projects/DriftAware-SIAlt/config/config.yaml', 'r') as f:\n",
    "    config = yaml.safe_load(f)"
   ]
  },
  {
   "cell_type": "code",
   "execution_count": 45,
   "id": "507ead46",
   "metadata": {},
   "outputs": [],
   "source": [
    "with open('/Users/rricker/GitLab/projects/DriftAware-SIAlt/config.yaml', 'r') as f:\n",
    "    config = yaml.safe_load(f)\n",
    "    \n",
    "geojson_dir = config[\"dir\"][config[\"options\"][\"sensor\"]][\"geojson\"]\n",
    "list_f = sorted(glob.glob(os.path.join(geojson_dir, f'*-f-*.geojson')))\n",
    "\n",
    "\n",
    "j=0\n",
    "nbs = 260  # empirical estimate\n",
    "target_var = config[\"options\"][\"target_variable\"]\n",
    "out_epsg = config['options']['out_epsg']\n",
    "stk_opt = config['options']['proc_step_options']['stacking']\n",
    "start_date = stk_opt['t_start']\n",
    "growth_range = stk_opt['growth_estimation']['growth_range'][\"freeboard\" if \"free\" in target_var else \"thickness\"]\n",
    "min_n_tps = stk_opt['growth_estimation']['min_n_tiepoints']\n",
    "cday = start_date + timedelta(days=j)\n",
    "subs = cday.strftime(\"%Y%m%d\")\n",
    "    \n",
    "    \n",
    "file_f = [i for i in list_f if subs in re.search('-(.+?)-*.geojson', os.path.basename(i)).group(1)]\n",
    "\n"
   ]
  },
  {
   "cell_type": "code",
   "execution_count": 60,
   "id": "5d6db618",
   "metadata": {},
   "outputs": [],
   "source": [
    "def get_neighbor_dyn_range(row, data, var, tree):\n",
    "    point = (row['geometry'].x, row['geometry'].y)\n",
    "    neighbors_indices = tree.query_ball_point(point, row[var+'_drift_unc'], p=2.0)\n",
    "\n",
    "    if not neighbors_indices:\n",
    "        return 0.0  # Handle the case when there are no neighbors\n",
    "\n",
    "    neighbor_thickness = data.loc[neighbors_indices, var].values\n",
    "    return (np.percentile(neighbor_thickness, 75) - np.percentile(neighbor_thickness, 25))\n"
   ]
  },
  {
   "cell_type": "code",
   "execution_count": 2,
   "id": "68c5bbf9",
   "metadata": {},
   "outputs": [],
   "source": [
    "data = gpd.read_file(\"/Volumes/data2/projects/DriftAware-SIAlt/product/envisat/geojson/sea_ice_thickness-nh-16fr-epsg6931_141-2024-01-02_19-45-39/sea_ice_thickness-envisat-nh-20080430-v100-epsg6931_141.geojson\")\n",
    "data['divergence'] = data['divergence'].apply(lambda x: [float(val) for val in x.split()])\n",
    "data['shear'] = data['shear'].apply(lambda x: [float(val) for val in x.split()])\n"
   ]
  },
  {
   "cell_type": "code",
   "execution_count": 62,
   "id": "b947b025",
   "metadata": {},
   "outputs": [],
   "source": [
    "def get_deformation(row):\n",
    "    mean_tot = [np.linalg.norm([a, b]) for a, b in zip(row['shear'], row['divergence'])]\n",
    "    return np.mean(mean_tot), np.mean(row['shear']), np.mean(row['divergence'])\n",
    "\n",
    "def get_row_mean(row):\n",
    "    return np.mean(row)"
   ]
  },
  {
   "cell_type": "code",
   "execution_count": 64,
   "id": "a1ec0b6f",
   "metadata": {},
   "outputs": [],
   "source": [
    "div = data[\"divergence\"].apply(get_row_mean)"
   ]
  },
  {
   "cell_type": "code",
   "execution_count": 3,
   "id": "e12431ea",
   "metadata": {},
   "outputs": [],
   "source": [
    "time_bnds = np.array([[data['t0'].min(), data['t0'].max()]])\n"
   ]
  },
  {
   "cell_type": "code",
   "execution_count": 11,
   "id": "b4f5cf7c",
   "metadata": {},
   "outputs": [
    {
     "data": {
      "text/plain": [
       "15.93797915507246"
      ]
     },
     "execution_count": 11,
     "metadata": {},
     "output_type": "execute_result"
    }
   ],
   "source": [
    "(time_bnds[0][1]-time_bnds[0][0])/86400"
   ]
  },
  {
   "cell_type": "code",
   "execution_count": 10,
   "id": "c63a3c84",
   "metadata": {},
   "outputs": [
    {
     "data": {
      "text/plain": [
       "86400"
      ]
     },
     "execution_count": 10,
     "metadata": {},
     "output_type": "execute_result"
    }
   ],
   "source": [
    "60*60*24"
   ]
  },
  {
   "cell_type": "code",
   "execution_count": 21,
   "id": "6b3a265f",
   "metadata": {},
   "outputs": [
    {
     "data": {
      "text/plain": [
       "27.98361984979261"
      ]
     },
     "execution_count": 21,
     "metadata": {},
     "output_type": "execute_result"
    }
   ],
   "source": [
    "shear=[1,2,3,4]\n",
    "divergence=[5,6,7,8]\n",
    "sum(np.sqrt((a ** 2 + b ** 2)) for a, b in zip(shear, divergence))"
   ]
  },
  {
   "cell_type": "code",
   "execution_count": 3,
   "id": "31e63cd5",
   "metadata": {},
   "outputs": [],
   "source": [
    "dt_days = np.array([-12,-6,1,3,8,14])\n",
    "sit = np.array([0.9,0.76,1.2,1.0,1.22,1.18])-0.5\n",
    "coeff, cov_matrix = np.polyfit(dt_days, sit, deg=1, cov=True)\n",
    "#coeff_unc = np.sqrt(np.diag(coeff[1])[1])\n",
    "coeff_unc = np.sqrt(cov_matrix[0, 0])"
   ]
  },
  {
   "cell_type": "code",
   "execution_count": 13,
   "id": "2df38fe0",
   "metadata": {},
   "outputs": [
    {
     "data": {
      "image/png": "[encoded data removed]",
      "text/plain": [
       "<Figure size 432x288 with 1 Axes>"
      ]
     },
     "metadata": {},
     "output_type": "display_data"
    }
   ],
   "source": [
    "sns.set_style(\"darkgrid\")\n",
    "fontsize = 14\n",
    "plt.scatter(dt_days,sit,s=40,color='mediumpurple')\n",
    "\n",
    "x = np.arange(31)-15\n",
    "\n",
    "y0_lower = x * (coeff[0]-np.sqrt(cov_matrix[0, 0])) + (coeff[1]-np.sqrt(cov_matrix[1, 1]))\n",
    "y0_upper = x * (coeff[0]+np.sqrt(cov_matrix[0, 0])) + (coeff[1]+np.sqrt(cov_matrix[1, 1]))\n",
    "y1_lower = x * (coeff[0]-np.sqrt(cov_matrix[0, 0])) + (coeff[1]+np.sqrt(cov_matrix[1, 1]))\n",
    "y1_upper = x * (coeff[0]+np.sqrt(cov_matrix[0, 0])) + (coeff[1]-np.sqrt(cov_matrix[1, 1]))\n",
    "\n",
    "y_lower = np.concatenate([y1_upper[0:16],y0_lower[16:]])\n",
    "y_upper = np.concatenate([y1_lower[0:16],y0_upper[16:]])\n",
    "\n",
    "plt.plot(x, x * coeff[0]+coeff[1],linewidth=3, color = 'darkorange')\n",
    "\n",
    "#plt.plot(x, y0_lower,linewidth=3, color = 'green')\n",
    "#plt.plot(x, y0_upper,linewidth=3, color = 'blue')\n",
    "#plt.plot(x, y1_lower,linewidth=3, color = 'red')\n",
    "#plt.plot(x, y1_upper,linewidth=3, color = 'cyan')\n",
    "\n",
    "\n",
    "plt.fill_between(x, y_lower, y_upper, color='darkorange',linewidth=0, alpha=0.25)\n",
    "plt.xlim(-15, 15)  \n",
    "plt.ylim(0, 1) \n",
    "plt.xlabel('Time interval between measurement day and target day (days)', fontsize=fontsize)\n",
    "plt.ylabel('Sea ice thickness (m)', fontsize=fontsize)\n",
    "plt.xticks(fontsize=fontsize)\n",
    "plt.yticks(fontsize=fontsize)\n",
    "plt.savefig('/Users/rricker/Documents/projects/ESA_CCI+Phase2_option/deliverables/D3-ATBD/growth_estimation.png', bbox_inches='tight', dpi=420)"
   ]
  }
 ],
 "metadata": {
  "kernelspec": {
   "display_name": "Python 3 (ipykernel)",
   "language": "python",
   "name": "python3"
  },
  "language_info": {
   "codemirror_mode": {
    "name": "ipython",
    "version": 3
   },
   "file_extension": ".py",
   "mimetype": "text/x-python",
   "name": "python",
   "nbconvert_exporter": "python",
   "pygments_lexer": "ipython3",
   "version": "3.8.17"
  }
 },
 "nbformat": 4,
 "nbformat_minor": 5
}
